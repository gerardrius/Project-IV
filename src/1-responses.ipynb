{
 "cells": [
  {
   "cell_type": "code",
   "execution_count": 1,
   "metadata": {},
   "outputs": [
    {
     "data": {
      "text/plain": [
       "True"
      ]
     },
     "execution_count": 1,
     "metadata": {},
     "output_type": "execute_result"
    }
   ],
   "source": [
    "from dotenv import load_dotenv\n",
    "import os\n",
    "import requests\n",
    "import numpy as np\n",
    "import spotipy\n",
    "import time\n",
    "from spotipy.oauth2 import SpotifyClientCredentials #To access authorised Spotify data4\n",
    "import pandas as pd\n",
    "import random\n",
    "import credentials as cred\n",
    "\n",
    "load_dotenv()"
   ]
  },
  {
   "cell_type": "code",
   "execution_count": 4,
   "metadata": {},
   "outputs": [],
   "source": [
    "spotify_token  = cred.spotifyToken()\n",
    "headers = {\"Authorization\":f\"Bearer {spotify_token}\"}"
   ]
  },
  {
   "cell_type": "code",
   "execution_count": 5,
   "metadata": {},
   "outputs": [],
   "source": [
    "url_base = \"https://api.spotify.com/v1/playlists/\"\n",
    "playlist_link = 'https://open.spotify.com/playlist/37i9dQZF1DXcBWIGoYBM5M?si=b705194596334305'"
   ]
  },
  {
   "cell_type": "code",
   "execution_count": 6,
   "metadata": {},
   "outputs": [],
   "source": [
    "test_query = cred.playlist_query ()"
   ]
  },
  {
   "cell_type": "code",
   "execution_count": 7,
   "metadata": {},
   "outputs": [],
   "source": [
    "response = cred.playlist_response()"
   ]
  },
  {
   "cell_type": "code",
   "execution_count": 8,
   "metadata": {},
   "outputs": [],
   "source": [
    "track_items_dict = cred.track_items ()"
   ]
  },
  {
   "cell_type": "code",
   "execution_count": 9,
   "metadata": {},
   "outputs": [],
   "source": [
    "track_items_dict = cred.track_audio_features ()"
   ]
  },
  {
   "cell_type": "code",
   "execution_count": 10,
   "metadata": {},
   "outputs": [
    {
     "name": "stdout",
     "output_type": "stream",
     "text": [
      "Searching for \"Die For You - Remix\" by The Weeknd...\n",
      "Done.\n",
      "Searching for \"Flowers\" by Miley Cyrus...\n",
      "Done.\n",
      "Searching for \"Boy's a liar Pt. 2\" by PinkPantheress...\n",
      "Done.\n",
      "Searching for \"Kill Bill\" by SZA...\n",
      "Done.\n",
      "Searching for \"Escapism.\" by RAYE...\n",
      "Done.\n",
      "Searching for \"Creepin' (with The Weeknd & 21 Savage)\" by Metro Boomin...\n",
      "Done.\n",
      "Searching for \"Calm Down (with Selena Gomez)\" by Rema...\n",
      "Done.\n",
      "Searching for \"TQG\" by KAROL G...\n",
      "Done.\n",
      "Searching for \"As It Was\" by Harry Styles...\n",
      "Done.\n",
      "Searching for \"Players\" by Coi Leray...\n",
      "Done.\n",
      "Searching for \"CUFF IT\" by Beyoncé...\n",
      "Done.\n",
      "Searching for \"Anti-Hero\" by Taylor Swift...\n",
      "Done.\n",
      "Searching for \"golden hour\" by JVKE...\n",
      "Done.\n",
      "Searching for \"Shakira: Bzrp Music Sessions, Vol. 53\" by Bizarrap...\n",
      "Done.\n",
      "Searching for \"Unholy (feat. Kim Petras)\" by Sam Smith...\n",
      "Done.\n",
      "Searching for \"Just Wanna Rock\" by Lil Uzi Vert...\n",
      "Done.\n",
      "Searching for \"Love Again\" by The Kid LAROI...\n",
      "Done.\n",
      "Searching for \"Heaven\" by Niall Horan...\n",
      "Done.\n",
      "Searching for \"LET GO\" by Central Cee...\n",
      "Done.\n",
      "Searching for \"I'm Good (Blue)\" by David Guetta...\n",
      "Done.\n",
      "Searching for \"OMG\" by NewJeans...\n",
      "Done.\n",
      "Searching for \"Snooze\" by SZA...\n",
      "Done.\n",
      "Searching for \"Here With Me\" by d4vd...\n",
      "Done.\n",
      "Searching for \"10:35\" by Tiësto...\n",
      "Done.\n",
      "Searching for \"Made You Look\" by Meghan Trainor...\n",
      "Done.\n",
      "Searching for \"I Ain't Worried\" by OneRepublic...\n",
      "Done.\n",
      "Searching for \"People\" by Libianca...\n",
      "Done.\n",
      "Searching for \"ceilings\" by Lizzy McAlpine...\n",
      "Done.\n",
      "Searching for \"I Like You (A Happier Song) (with Doja Cat)\" by Post Malone...\n",
      "Done.\n",
      "Searching for \"Miss You\" by Oliver Tree...\n",
      "Done.\n",
      "Searching for \"STAR WALKIN' (League of Legends Worlds Anthem)\" by Lil Nas X...\n",
      "Done.\n",
      "Searching for \"Until I Found You (with Em Beihold) - Em Beihold Version\" by Stephen Sanchez...\n",
      "No results found for: 'Until I Found You (with Em Beihold) - Em Beihold Version Stephen Sanchez'\n",
      "Searching for \"I'm Not Here To Make Friends\" by Sam Smith...\n",
      "Done.\n",
      "Searching for \"Late Night Talking\" by Harry Styles...\n",
      "Done.\n",
      "Searching for \"Lavender Haze\" by Taylor Swift...\n",
      "Done.\n",
      "Searching for \"Nobody Gets Me\" by SZA...\n",
      "Done.\n",
      "Searching for \"Rich Flex\" by Drake...\n",
      "Done.\n",
      "Searching for \"THE LONELIEST\" by Måneskin...\n",
      "Done.\n",
      "Searching for \"Bad Habit\" by Steve Lacy...\n",
      "Done.\n",
      "Searching for \"Last Night\" by Morgan Wallen...\n",
      "Done.\n",
      "Searching for \"Nonsense\" by Sabrina Carpenter...\n",
      "Done.\n",
      "Searching for \"La Bachata\" by Manuel Turizo...\n",
      "Done.\n",
      "Searching for \"Bones\" by Imagine Dragons...\n",
      "Done.\n",
      "Searching for \"Something in the Orange\" by Zach Bryan...\n",
      "Done.\n",
      "Searching for \"Rush\" by Ayra Starr...\n",
      "Done.\n",
      "Searching for \"About Damn Time\" by Lizzo...\n",
      "Done.\n",
      "Searching for \"Yandel 150\" by Yandel...\n",
      "Done.\n",
      "Searching for \"Vegas (From the Original Motion Picture Soundtrack ELVIS)\" by Doja Cat...\n",
      "Done.\n",
      "Searching for \"Superhero (Heroes & Villains) [with Future & Chris Brown]\" by Metro Boomin...\n",
      "Done.\n",
      "Searching for \"Tití Me Preguntó\" by Bad Bunny...\n",
      "Done.\n"
     ]
    }
   ],
   "source": [
    "track_items_dict = cred.get_lyrics ()"
   ]
  },
  {
   "cell_type": "code",
   "execution_count": 11,
   "metadata": {},
   "outputs": [],
   "source": [
    "track_items_dict = cred.track_sentiment ()"
   ]
  },
  {
   "cell_type": "code",
   "execution_count": 12,
   "metadata": {},
   "outputs": [],
   "source": [
    "df = pd.DataFrame(track_items_dict)"
   ]
  },
  {
   "cell_type": "code",
   "execution_count": 13,
   "metadata": {},
   "outputs": [
    {
     "data": {
      "text/html": [
       "<div>\n",
       "<style scoped>\n",
       "    .dataframe tbody tr th:only-of-type {\n",
       "        vertical-align: middle;\n",
       "    }\n",
       "\n",
       "    .dataframe tbody tr th {\n",
       "        vertical-align: top;\n",
       "    }\n",
       "\n",
       "    .dataframe thead th {\n",
       "        text-align: right;\n",
       "    }\n",
       "</style>\n",
       "<table border=\"1\" class=\"dataframe\">\n",
       "  <thead>\n",
       "    <tr style=\"text-align: right;\">\n",
       "      <th></th>\n",
       "      <th>Name</th>\n",
       "      <th>Artist</th>\n",
       "      <th>Popularity</th>\n",
       "      <th>Song ID</th>\n",
       "      <th>Danceability</th>\n",
       "      <th>Energy</th>\n",
       "      <th>Key</th>\n",
       "      <th>Loudness</th>\n",
       "      <th>Mode</th>\n",
       "      <th>Speechiness</th>\n",
       "      <th>Acousticness</th>\n",
       "      <th>Instrumentalness</th>\n",
       "      <th>Liveness</th>\n",
       "      <th>Valence</th>\n",
       "      <th>Tempo</th>\n",
       "      <th>Lyrics</th>\n",
       "      <th>Positive</th>\n",
       "      <th>Neutral</th>\n",
       "      <th>Negative</th>\n",
       "      <th>Compound</th>\n",
       "    </tr>\n",
       "  </thead>\n",
       "  <tbody>\n",
       "    <tr>\n",
       "      <th>0</th>\n",
       "      <td>Die For You - Remix</td>\n",
       "      <td>The Weeknd</td>\n",
       "      <td>78</td>\n",
       "      <td>7oDd86yk8itslrA9HRP2ki</td>\n",
       "      <td>0.531</td>\n",
       "      <td>0.525</td>\n",
       "      <td>1</td>\n",
       "      <td>-6.500</td>\n",
       "      <td>0</td>\n",
       "      <td>0.0671</td>\n",
       "      <td>0.2320</td>\n",
       "      <td>0.000000</td>\n",
       "      <td>0.4410</td>\n",
       "      <td>0.502</td>\n",
       "      <td>66.900</td>\n",
       "      <td>TranslationsEspañolItalianoDeutschDie For You ...</td>\n",
       "      <td>0.125</td>\n",
       "      <td>0.625</td>\n",
       "      <td>0.250</td>\n",
       "      <td>-0.9982</td>\n",
       "    </tr>\n",
       "    <tr>\n",
       "      <th>1</th>\n",
       "      <td>Flowers</td>\n",
       "      <td>Miley Cyrus</td>\n",
       "      <td>100</td>\n",
       "      <td>0yLdNVWF3Srea0uzk55zFn</td>\n",
       "      <td>0.707</td>\n",
       "      <td>0.681</td>\n",
       "      <td>0</td>\n",
       "      <td>-4.325</td>\n",
       "      <td>1</td>\n",
       "      <td>0.0668</td>\n",
       "      <td>0.0632</td>\n",
       "      <td>0.000005</td>\n",
       "      <td>0.0322</td>\n",
       "      <td>0.646</td>\n",
       "      <td>117.999</td>\n",
       "      <td>TranslationsEspañolPortuguêsKiswahiliDeutschIt...</td>\n",
       "      <td>0.517</td>\n",
       "      <td>0.439</td>\n",
       "      <td>0.044</td>\n",
       "      <td>0.9998</td>\n",
       "    </tr>\n",
       "    <tr>\n",
       "      <th>2</th>\n",
       "      <td>Boy's a liar Pt. 2</td>\n",
       "      <td>PinkPantheress</td>\n",
       "      <td>91</td>\n",
       "      <td>6AQbmUe0Qwf5PZnt4HmTXv</td>\n",
       "      <td>0.696</td>\n",
       "      <td>0.809</td>\n",
       "      <td>5</td>\n",
       "      <td>-8.254</td>\n",
       "      <td>1</td>\n",
       "      <td>0.0500</td>\n",
       "      <td>0.2520</td>\n",
       "      <td>0.000128</td>\n",
       "      <td>0.2480</td>\n",
       "      <td>0.857</td>\n",
       "      <td>132.962</td>\n",
       "      <td>TranslationsPortuguêsTürkçeBoy’s a liar Pt. 2 ...</td>\n",
       "      <td>0.195</td>\n",
       "      <td>0.681</td>\n",
       "      <td>0.124</td>\n",
       "      <td>0.9664</td>\n",
       "    </tr>\n",
       "    <tr>\n",
       "      <th>3</th>\n",
       "      <td>Kill Bill</td>\n",
       "      <td>SZA</td>\n",
       "      <td>92</td>\n",
       "      <td>1Qrg8KqiBpW07V7PNxwwwL</td>\n",
       "      <td>0.644</td>\n",
       "      <td>0.735</td>\n",
       "      <td>8</td>\n",
       "      <td>-5.747</td>\n",
       "      <td>1</td>\n",
       "      <td>0.0391</td>\n",
       "      <td>0.0521</td>\n",
       "      <td>0.144000</td>\n",
       "      <td>0.1610</td>\n",
       "      <td>0.418</td>\n",
       "      <td>88.980</td>\n",
       "      <td>TranslationsEspañolPortuguêsItalianoTürkçeDeut...</td>\n",
       "      <td>0.203</td>\n",
       "      <td>0.609</td>\n",
       "      <td>0.188</td>\n",
       "      <td>0.6321</td>\n",
       "    </tr>\n",
       "    <tr>\n",
       "      <th>4</th>\n",
       "      <td>Escapism.</td>\n",
       "      <td>RAYE</td>\n",
       "      <td>89</td>\n",
       "      <td>5Z2MiIZ5I3jJvvmeWMLbOQ</td>\n",
       "      <td>0.538</td>\n",
       "      <td>0.742</td>\n",
       "      <td>2</td>\n",
       "      <td>-5.355</td>\n",
       "      <td>1</td>\n",
       "      <td>0.1140</td>\n",
       "      <td>0.1380</td>\n",
       "      <td>0.000047</td>\n",
       "      <td>0.0934</td>\n",
       "      <td>0.250</td>\n",
       "      <td>96.107</td>\n",
       "      <td>TranslationsTürkçeEspañolPortuguêsEscapism. Ly...</td>\n",
       "      <td>0.083</td>\n",
       "      <td>0.823</td>\n",
       "      <td>0.095</td>\n",
       "      <td>-0.7889</td>\n",
       "    </tr>\n",
       "  </tbody>\n",
       "</table>\n",
       "</div>"
      ],
      "text/plain": [
       "                  Name          Artist  Popularity                 Song ID  \\\n",
       "0  Die For You - Remix      The Weeknd          78  7oDd86yk8itslrA9HRP2ki   \n",
       "1              Flowers     Miley Cyrus         100  0yLdNVWF3Srea0uzk55zFn   \n",
       "2   Boy's a liar Pt. 2  PinkPantheress          91  6AQbmUe0Qwf5PZnt4HmTXv   \n",
       "3            Kill Bill             SZA          92  1Qrg8KqiBpW07V7PNxwwwL   \n",
       "4            Escapism.            RAYE          89  5Z2MiIZ5I3jJvvmeWMLbOQ   \n",
       "\n",
       "   Danceability  Energy  Key  Loudness  Mode  Speechiness  Acousticness  \\\n",
       "0         0.531   0.525    1    -6.500     0       0.0671        0.2320   \n",
       "1         0.707   0.681    0    -4.325     1       0.0668        0.0632   \n",
       "2         0.696   0.809    5    -8.254     1       0.0500        0.2520   \n",
       "3         0.644   0.735    8    -5.747     1       0.0391        0.0521   \n",
       "4         0.538   0.742    2    -5.355     1       0.1140        0.1380   \n",
       "\n",
       "   Instrumentalness  Liveness  Valence    Tempo  \\\n",
       "0          0.000000    0.4410    0.502   66.900   \n",
       "1          0.000005    0.0322    0.646  117.999   \n",
       "2          0.000128    0.2480    0.857  132.962   \n",
       "3          0.144000    0.1610    0.418   88.980   \n",
       "4          0.000047    0.0934    0.250   96.107   \n",
       "\n",
       "                                              Lyrics  Positive  Neutral  \\\n",
       "0  TranslationsEspañolItalianoDeutschDie For You ...     0.125    0.625   \n",
       "1  TranslationsEspañolPortuguêsKiswahiliDeutschIt...     0.517    0.439   \n",
       "2  TranslationsPortuguêsTürkçeBoy’s a liar Pt. 2 ...     0.195    0.681   \n",
       "3  TranslationsEspañolPortuguêsItalianoTürkçeDeut...     0.203    0.609   \n",
       "4  TranslationsTürkçeEspañolPortuguêsEscapism. Ly...     0.083    0.823   \n",
       "\n",
       "   Negative  Compound  \n",
       "0     0.250   -0.9982  \n",
       "1     0.044    0.9998  \n",
       "2     0.124    0.9664  \n",
       "3     0.188    0.6321  \n",
       "4     0.095   -0.7889  "
      ]
     },
     "execution_count": 13,
     "metadata": {},
     "output_type": "execute_result"
    }
   ],
   "source": [
    "df.head()"
   ]
  },
  {
   "cell_type": "code",
   "execution_count": null,
   "metadata": {},
   "outputs": [],
   "source": []
  },
  {
   "cell_type": "code",
   "execution_count": null,
   "metadata": {},
   "outputs": [],
   "source": []
  },
  {
   "cell_type": "code",
   "execution_count": null,
   "metadata": {},
   "outputs": [],
   "source": []
  },
  {
   "cell_type": "code",
   "execution_count": null,
   "metadata": {},
   "outputs": [],
   "source": [
    "\n"
   ]
  },
  {
   "cell_type": "code",
   "execution_count": null,
   "metadata": {},
   "outputs": [],
   "source": []
  },
  {
   "cell_type": "code",
   "execution_count": 17,
   "metadata": {},
   "outputs": [
    {
     "name": "stderr",
     "output_type": "stream",
     "text": [
      "[nltk_data] Downloading package stopwords to\n",
      "[nltk_data]     /Users/gerardrius/nltk_data...\n",
      "[nltk_data]   Package stopwords is already up-to-date!\n",
      "[nltk_data] Downloading package punkt to\n",
      "[nltk_data]     /Users/gerardrius/nltk_data...\n",
      "[nltk_data]   Package punkt is already up-to-date!\n"
     ]
    },
    {
     "name": "stdout",
     "output_type": "stream",
     "text": [
      "Collecting en-core-web-sm==3.5.0\n",
      "  Downloading https://github.com/explosion/spacy-models/releases/download/en_core_web_sm-3.5.0/en_core_web_sm-3.5.0-py3-none-any.whl (12.8 MB)\n",
      "Requirement already satisfied: spacy<3.6.0,>=3.5.0 in /Users/gerardrius/opt/anaconda3/envs/ironhack/lib/python3.9/site-packages (from en-core-web-sm==3.5.0) (3.5.0)\n",
      "Requirement already satisfied: jinja2 in /Users/gerardrius/opt/anaconda3/envs/ironhack/lib/python3.9/site-packages (from spacy<3.6.0,>=3.5.0->en-core-web-sm==3.5.0) (3.1.2)\n",
      "Requirement already satisfied: thinc<8.2.0,>=8.1.0 in /Users/gerardrius/opt/anaconda3/envs/ironhack/lib/python3.9/site-packages (from spacy<3.6.0,>=3.5.0->en-core-web-sm==3.5.0) (8.1.7)\n",
      "Requirement already satisfied: setuptools in /Users/gerardrius/opt/anaconda3/envs/ironhack/lib/python3.9/site-packages (from spacy<3.6.0,>=3.5.0->en-core-web-sm==3.5.0) (61.2.0)\n",
      "Requirement already satisfied: wasabi<1.2.0,>=0.9.1 in /Users/gerardrius/opt/anaconda3/envs/ironhack/lib/python3.9/site-packages (from spacy<3.6.0,>=3.5.0->en-core-web-sm==3.5.0) (1.1.1)\n",
      "Requirement already satisfied: catalogue<2.1.0,>=2.0.6 in /Users/gerardrius/opt/anaconda3/envs/ironhack/lib/python3.9/site-packages (from spacy<3.6.0,>=3.5.0->en-core-web-sm==3.5.0) (2.0.8)\n",
      "Requirement already satisfied: tqdm<5.0.0,>=4.38.0 in /Users/gerardrius/opt/anaconda3/envs/ironhack/lib/python3.9/site-packages (from spacy<3.6.0,>=3.5.0->en-core-web-sm==3.5.0) (4.64.1)\n",
      "Requirement already satisfied: pydantic!=1.8,!=1.8.1,<1.11.0,>=1.7.4 in /Users/gerardrius/opt/anaconda3/envs/ironhack/lib/python3.9/site-packages (from spacy<3.6.0,>=3.5.0->en-core-web-sm==3.5.0) (1.10.5)\n",
      "Requirement already satisfied: cymem<2.1.0,>=2.0.2 in /Users/gerardrius/opt/anaconda3/envs/ironhack/lib/python3.9/site-packages (from spacy<3.6.0,>=3.5.0->en-core-web-sm==3.5.0) (2.0.7)\n",
      "Requirement already satisfied: requests<3.0.0,>=2.13.0 in /Users/gerardrius/opt/anaconda3/envs/ironhack/lib/python3.9/site-packages (from spacy<3.6.0,>=3.5.0->en-core-web-sm==3.5.0) (2.28.2)\n",
      "Requirement already satisfied: pathy>=0.10.0 in /Users/gerardrius/opt/anaconda3/envs/ironhack/lib/python3.9/site-packages (from spacy<3.6.0,>=3.5.0->en-core-web-sm==3.5.0) (0.10.1)\n",
      "Requirement already satisfied: typer<0.8.0,>=0.3.0 in /Users/gerardrius/opt/anaconda3/envs/ironhack/lib/python3.9/site-packages (from spacy<3.6.0,>=3.5.0->en-core-web-sm==3.5.0) (0.7.0)\n",
      "Requirement already satisfied: murmurhash<1.1.0,>=0.28.0 in /Users/gerardrius/opt/anaconda3/envs/ironhack/lib/python3.9/site-packages (from spacy<3.6.0,>=3.5.0->en-core-web-sm==3.5.0) (1.0.9)\n",
      "Requirement already satisfied: smart-open<7.0.0,>=5.2.1 in /Users/gerardrius/opt/anaconda3/envs/ironhack/lib/python3.9/site-packages (from spacy<3.6.0,>=3.5.0->en-core-web-sm==3.5.0) (6.3.0)\n",
      "Requirement already satisfied: spacy-legacy<3.1.0,>=3.0.11 in /Users/gerardrius/opt/anaconda3/envs/ironhack/lib/python3.9/site-packages (from spacy<3.6.0,>=3.5.0->en-core-web-sm==3.5.0) (3.0.12)\n",
      "Requirement already satisfied: langcodes<4.0.0,>=3.2.0 in /Users/gerardrius/opt/anaconda3/envs/ironhack/lib/python3.9/site-packages (from spacy<3.6.0,>=3.5.0->en-core-web-sm==3.5.0) (3.3.0)\n",
      "Requirement already satisfied: packaging>=20.0 in /Users/gerardrius/opt/anaconda3/envs/ironhack/lib/python3.9/site-packages (from spacy<3.6.0,>=3.5.0->en-core-web-sm==3.5.0) (21.3)\n",
      "Requirement already satisfied: srsly<3.0.0,>=2.4.3 in /Users/gerardrius/opt/anaconda3/envs/ironhack/lib/python3.9/site-packages (from spacy<3.6.0,>=3.5.0->en-core-web-sm==3.5.0) (2.4.5)\n",
      "Requirement already satisfied: numpy>=1.15.0 in /Users/gerardrius/opt/anaconda3/envs/ironhack/lib/python3.9/site-packages (from spacy<3.6.0,>=3.5.0->en-core-web-sm==3.5.0) (1.24.1)\n",
      "Requirement already satisfied: preshed<3.1.0,>=3.0.2 in /Users/gerardrius/opt/anaconda3/envs/ironhack/lib/python3.9/site-packages (from spacy<3.6.0,>=3.5.0->en-core-web-sm==3.5.0) (3.0.8)\n",
      "Requirement already satisfied: spacy-loggers<2.0.0,>=1.0.0 in /Users/gerardrius/opt/anaconda3/envs/ironhack/lib/python3.9/site-packages (from spacy<3.6.0,>=3.5.0->en-core-web-sm==3.5.0) (1.0.4)\n",
      "Requirement already satisfied: pyparsing!=3.0.5,>=2.0.2 in /Users/gerardrius/opt/anaconda3/envs/ironhack/lib/python3.9/site-packages (from packaging>=20.0->spacy<3.6.0,>=3.5.0->en-core-web-sm==3.5.0) (3.0.4)\n",
      "Requirement already satisfied: typing-extensions>=4.2.0 in /Users/gerardrius/opt/anaconda3/envs/ironhack/lib/python3.9/site-packages (from pydantic!=1.8,!=1.8.1,<1.11.0,>=1.7.4->spacy<3.6.0,>=3.5.0->en-core-web-sm==3.5.0) (4.4.0)\n",
      "Requirement already satisfied: charset-normalizer<4,>=2 in /Users/gerardrius/opt/anaconda3/envs/ironhack/lib/python3.9/site-packages (from requests<3.0.0,>=2.13.0->spacy<3.6.0,>=3.5.0->en-core-web-sm==3.5.0) (3.0.1)\n",
      "Requirement already satisfied: urllib3<1.27,>=1.21.1 in /Users/gerardrius/opt/anaconda3/envs/ironhack/lib/python3.9/site-packages (from requests<3.0.0,>=2.13.0->spacy<3.6.0,>=3.5.0->en-core-web-sm==3.5.0) (1.26.14)\n",
      "Requirement already satisfied: idna<4,>=2.5 in /Users/gerardrius/opt/anaconda3/envs/ironhack/lib/python3.9/site-packages (from requests<3.0.0,>=2.13.0->spacy<3.6.0,>=3.5.0->en-core-web-sm==3.5.0) (2.10)\n",
      "Requirement already satisfied: certifi>=2017.4.17 in /Users/gerardrius/opt/anaconda3/envs/ironhack/lib/python3.9/site-packages (from requests<3.0.0,>=2.13.0->spacy<3.6.0,>=3.5.0->en-core-web-sm==3.5.0) (2022.12.7)\n",
      "Requirement already satisfied: blis<0.8.0,>=0.7.8 in /Users/gerardrius/opt/anaconda3/envs/ironhack/lib/python3.9/site-packages (from thinc<8.2.0,>=8.1.0->spacy<3.6.0,>=3.5.0->en-core-web-sm==3.5.0) (0.7.9)\n",
      "Requirement already satisfied: confection<1.0.0,>=0.0.1 in /Users/gerardrius/opt/anaconda3/envs/ironhack/lib/python3.9/site-packages (from thinc<8.2.0,>=8.1.0->spacy<3.6.0,>=3.5.0->en-core-web-sm==3.5.0) (0.0.4)\n",
      "Requirement already satisfied: click<9.0.0,>=7.1.1 in /Users/gerardrius/opt/anaconda3/envs/ironhack/lib/python3.9/site-packages (from typer<0.8.0,>=0.3.0->spacy<3.6.0,>=3.5.0->en-core-web-sm==3.5.0) (8.0.4)\n",
      "Requirement already satisfied: MarkupSafe>=2.0 in /Users/gerardrius/opt/anaconda3/envs/ironhack/lib/python3.9/site-packages (from jinja2->spacy<3.6.0,>=3.5.0->en-core-web-sm==3.5.0) (2.1.2)\n",
      "Installing collected packages: en-core-web-sm\n",
      "Successfully installed en-core-web-sm-3.5.0\n",
      "\u001b[38;5;2m✔ Download and installation successful\u001b[0m\n",
      "You can now load the package via spacy.load('en_core_web_sm')\n"
     ]
    }
   ],
   "source": [
    "import nltk\n",
    "import spacy\n",
    "import gensim\n",
    "\n",
    "# Download NLTK resources\n",
    "nltk.download('stopwords')\n",
    "nltk.download('punkt')\n",
    "\n",
    "# Download spaCy resources\n",
    "spacy.cli.download(\"en_core_web_sm\")\n",
    "nlp = spacy.load(\"en_core_web_sm\")"
   ]
  },
  {
   "cell_type": "code",
   "execution_count": 19,
   "metadata": {},
   "outputs": [],
   "source": [
    "# Load the song lyrics\n",
    "#with open('lyrics.txt', 'r') as f:\n",
    "#    lyrics = f.read()\n",
    "lyrics = track_items_dict['Lyrics'][0]\n",
    "\n",
    "# Tokenize the lyrics\n",
    "tokens = nltk.word_tokenize(lyrics.lower())\n",
    "\n",
    "# Remove stopwords\n",
    "stop_words = set(nltk.corpus.stopwords.words('english'))\n",
    "tokens = [token for token in tokens if not token in stop_words]\n",
    "\n",
    "# Remove punctuation\n",
    "tokens = [token for token in tokens if token.isalpha()]\n"
   ]
  },
  {
   "cell_type": "code",
   "execution_count": 22,
   "metadata": {},
   "outputs": [
    {
     "name": "stdout",
     "output_type": "stream",
     "text": [
      "The theme of the song is: would\n"
     ]
    }
   ],
   "source": [
    "# Create a dictionary from the tokenized lyrics\n",
    "dictionary = gensim.corpora.Dictionary([tokens])\n",
    "\n",
    "# Convert the tokenized lyrics into a bag-of-words representation\n",
    "bow_corpus = [dictionary.doc2bow(tokens)]\n",
    "\n",
    "# Train an LDA model on the bag-of-words representation\n",
    "lda_model = gensim.models.ldamodel.LdaModel(\n",
    "    corpus=bow_corpus,\n",
    "    id2word=dictionary,\n",
    "    num_topics=1,\n",
    "    random_state=42\n",
    ")\n",
    "\n",
    "# Extract the main topic from the LDA model\n",
    "# Extract the main topic from the LDA model\n",
    "topic = lda_model.print_topics()[0][1]\n",
    "\n",
    "# Split the topic into individual words with proportions\n",
    "topic_words = topic.split('+')\n",
    "\n",
    "# Extract the word with the highest proportion\n",
    "representative_word = max(topic_words, key=lambda x: float(x.split('*')[0])) \\\n",
    "                      .split('*')[1].strip('\" ')\n",
    "\n",
    "# Print the representative word\n",
    "print('The theme of the song is:', representative_word)\n"
   ]
  },
  {
   "cell_type": "code",
   "execution_count": 28,
   "metadata": {},
   "outputs": [],
   "source": [
    "import en_core_web_sm\n",
    "nlp = en_core_web_sm.load()"
   ]
  },
  {
   "cell_type": "code",
   "execution_count": 30,
   "metadata": {},
   "outputs": [
    {
     "ename": "ValueError",
     "evalue": "[E010] Word vectors set to length 0. This may be because you don't have a model installed or loaded, or because your model doesn't include word vectors. For more info, see the docs:\nhttps://spacy.io/usage/models",
     "output_type": "error",
     "traceback": [
      "\u001b[0;31m---------------------------------------------------------------------------\u001b[0m",
      "\u001b[0;31mValueError\u001b[0m                                Traceback (most recent call last)",
      "\u001b[1;32m/Users/gerardrius/Ironhack/projects/Project-IV/src/1-responses.ipynb Cell 49\u001b[0m in \u001b[0;36m<cell line: 4>\u001b[0;34m()\u001b[0m\n\u001b[1;32m      <a href='vscode-notebook-cell:/Users/gerardrius/Ironhack/projects/Project-IV/src/1-responses.ipynb#Y230sZmlsZQ%3D%3D?line=3'>4</a>\u001b[0m \u001b[39mfor\u001b[39;00m word \u001b[39min\u001b[39;00m topic_words:\n\u001b[1;32m      <a href='vscode-notebook-cell:/Users/gerardrius/Ironhack/projects/Project-IV/src/1-responses.ipynb#Y230sZmlsZQ%3D%3D?line=4'>5</a>\u001b[0m     word \u001b[39m=\u001b[39m word\u001b[39m.\u001b[39msplit(\u001b[39m\"\u001b[39m\u001b[39m*\u001b[39m\u001b[39m\"\u001b[39m)[\u001b[39m1\u001b[39m]\u001b[39m.\u001b[39mstrip()\u001b[39m.\u001b[39mstrip(\u001b[39m'\u001b[39m\u001b[39m\"\u001b[39m\u001b[39m'\u001b[39m)\n\u001b[0;32m----> <a href='vscode-notebook-cell:/Users/gerardrius/Ironhack/projects/Project-IV/src/1-responses.ipynb#Y230sZmlsZQ%3D%3D?line=5'>6</a>\u001b[0m     word_vector \u001b[39m=\u001b[39m nlp\u001b[39m.\u001b[39;49mvocab[word]\u001b[39m.\u001b[39;49mvector\n\u001b[1;32m      <a href='vscode-notebook-cell:/Users/gerardrius/Ironhack/projects/Project-IV/src/1-responses.ipynb#Y230sZmlsZQ%3D%3D?line=6'>7</a>\u001b[0m     topic_vector \u001b[39m+\u001b[39m\u001b[39m=\u001b[39m word_vector\n\u001b[1;32m      <a href='vscode-notebook-cell:/Users/gerardrius/Ironhack/projects/Project-IV/src/1-responses.ipynb#Y230sZmlsZQ%3D%3D?line=7'>8</a>\u001b[0m topic_vector \u001b[39m/\u001b[39m\u001b[39m=\u001b[39m \u001b[39mlen\u001b[39m(topic_words)\n",
      "File \u001b[0;32m~/opt/anaconda3/envs/ironhack/lib/python3.9/site-packages/spacy/lexeme.pyx:158\u001b[0m, in \u001b[0;36mspacy.lexeme.Lexeme.vector.__get__\u001b[0;34m()\u001b[0m\n",
      "\u001b[0;31mValueError\u001b[0m: [E010] Word vectors set to length 0. This may be because you don't have a model installed or loaded, or because your model doesn't include word vectors. For more info, see the docs:\nhttps://spacy.io/usage/models"
     ]
    }
   ],
   "source": [
    "# Calculate the average vector for all the words in the topic\n",
    "topic_words = topic.split(\"+\")\n",
    "topic_vector = np.zeros((nlp.vocab.vectors.shape[1],), dtype=\"float32\")\n",
    "for word in topic_words:\n",
    "    word = word.split(\"*\")[1].strip().strip('\"')\n",
    "    word_vector = nlp.vocab[word].vector\n",
    "    topic_vector += word_vector\n",
    "topic_vector /= len(topic_words)\n",
    "\n",
    "# Find the word closest to the topic vector in the Word Embedding space\n",
    "representative_word = nlp.vocab.vectors.most_similar(\n",
    "    topic_vector.reshape(1, -1), n=1\n",
    ")[0][0]\n",
    "\n",
    "# Print the representative word\n",
    "print('The theme of the song is:', representative_word)\n"
   ]
  },
  {
   "cell_type": "code",
   "execution_count": 35,
   "metadata": {},
   "outputs": [
    {
     "data": {
      "text/html": [
       "<div>\n",
       "<style scoped>\n",
       "    .dataframe tbody tr th:only-of-type {\n",
       "        vertical-align: middle;\n",
       "    }\n",
       "\n",
       "    .dataframe tbody tr th {\n",
       "        vertical-align: top;\n",
       "    }\n",
       "\n",
       "    .dataframe thead th {\n",
       "        text-align: right;\n",
       "    }\n",
       "</style>\n",
       "<table border=\"1\" class=\"dataframe\">\n",
       "  <thead>\n",
       "    <tr style=\"text-align: right;\">\n",
       "      <th></th>\n",
       "      <th>[</th>\n",
       "      <th>1.</th>\n",
       "      <th>0.</th>\n",
       "      <th>0..1</th>\n",
       "      <th>0..2</th>\n",
       "      <th>0..3</th>\n",
       "      <th>0..4</th>\n",
       "      <th>0.]</th>\n",
       "      <th>During the period of falling in love, each time that we met and especially when we had not met for a long time.</th>\n",
       "      <th>Unnamed: 9</th>\n",
       "      <th>Unnamed: 10</th>\n",
       "      <th>Unnamed: 11</th>\n",
       "    </tr>\n",
       "  </thead>\n",
       "  <tbody>\n",
       "    <tr>\n",
       "      <th>0</th>\n",
       "      <td>[</td>\n",
       "      <td>0.0</td>\n",
       "      <td>1.0</td>\n",
       "      <td>0.0</td>\n",
       "      <td>0.0</td>\n",
       "      <td>0.0</td>\n",
       "      <td>0.0</td>\n",
       "      <td>0.]</td>\n",
       "      <td>When I was involved in a traffic accident.</td>\n",
       "      <td>NaN</td>\n",
       "      <td>NaN</td>\n",
       "      <td>NaN</td>\n",
       "    </tr>\n",
       "    <tr>\n",
       "      <th>1</th>\n",
       "      <td>[</td>\n",
       "      <td>0.0</td>\n",
       "      <td>0.0</td>\n",
       "      <td>1.0</td>\n",
       "      <td>0.0</td>\n",
       "      <td>0.0</td>\n",
       "      <td>0.0</td>\n",
       "      <td>0.]</td>\n",
       "      <td>When I was driving home after  several days of...</td>\n",
       "      <td>NaN</td>\n",
       "      <td>NaN</td>\n",
       "      <td>NaN</td>\n",
       "    </tr>\n",
       "    <tr>\n",
       "      <th>2</th>\n",
       "      <td>[</td>\n",
       "      <td>0.0</td>\n",
       "      <td>0.0</td>\n",
       "      <td>0.0</td>\n",
       "      <td>1.0</td>\n",
       "      <td>0.0</td>\n",
       "      <td>0.0</td>\n",
       "      <td>0.]</td>\n",
       "      <td>When I lost the person who meant the most to me.</td>\n",
       "      <td>NaN</td>\n",
       "      <td>NaN</td>\n",
       "      <td>NaN</td>\n",
       "    </tr>\n",
       "    <tr>\n",
       "      <th>3</th>\n",
       "      <td>[</td>\n",
       "      <td>0.0</td>\n",
       "      <td>0.0</td>\n",
       "      <td>0.0</td>\n",
       "      <td>0.0</td>\n",
       "      <td>1.0</td>\n",
       "      <td>0.0</td>\n",
       "      <td>0.]</td>\n",
       "      <td>The time I knocked a deer down - the sight of ...</td>\n",
       "      <td>NaN</td>\n",
       "      <td>NaN</td>\n",
       "      <td>NaN</td>\n",
       "    </tr>\n",
       "    <tr>\n",
       "      <th>4</th>\n",
       "      <td>[</td>\n",
       "      <td>0.0</td>\n",
       "      <td>0.0</td>\n",
       "      <td>0.0</td>\n",
       "      <td>0.0</td>\n",
       "      <td>0.0</td>\n",
       "      <td>1.0</td>\n",
       "      <td>0.]</td>\n",
       "      <td>When I did not speak the truth.</td>\n",
       "      <td>NaN</td>\n",
       "      <td>NaN</td>\n",
       "      <td>NaN</td>\n",
       "    </tr>\n",
       "    <tr>\n",
       "      <th>...</th>\n",
       "      <td>...</td>\n",
       "      <td>...</td>\n",
       "      <td>...</td>\n",
       "      <td>...</td>\n",
       "      <td>...</td>\n",
       "      <td>...</td>\n",
       "      <td>...</td>\n",
       "      <td>...</td>\n",
       "      <td>...</td>\n",
       "      <td>...</td>\n",
       "      <td>...</td>\n",
       "      <td>...</td>\n",
       "    </tr>\n",
       "    <tr>\n",
       "      <th>7474</th>\n",
       "      <td>[</td>\n",
       "      <td>0.0</td>\n",
       "      <td>0.0</td>\n",
       "      <td>1.0</td>\n",
       "      <td>0.0</td>\n",
       "      <td>0.0</td>\n",
       "      <td>0.0</td>\n",
       "      <td>0.]</td>\n",
       "      <td>Two years back someone invited me to be the tu...</td>\n",
       "      <td>seco</td>\n",
       "      <td>d</td>\n",
       "      <td>ear</td>\n",
       "    </tr>\n",
       "    <tr>\n",
       "      <th>7475</th>\n",
       "      <td>[</td>\n",
       "      <td>0.0</td>\n",
       "      <td>0.0</td>\n",
       "      <td>0.0</td>\n",
       "      <td>1.0</td>\n",
       "      <td>0.0</td>\n",
       "      <td>0.0</td>\n",
       "      <td>0.]</td>\n",
       "      <td>I had taken the responsibility to do something...</td>\n",
       "      <td>ent a</td>\n",
       "      <td>d</td>\n",
       "      <td>elt</td>\n",
       "    </tr>\n",
       "    <tr>\n",
       "      <th>7476</th>\n",
       "      <td>[</td>\n",
       "      <td>0.0</td>\n",
       "      <td>0.0</td>\n",
       "      <td>0.0</td>\n",
       "      <td>0.0</td>\n",
       "      <td>1.0</td>\n",
       "      <td>0.0</td>\n",
       "      <td>0.]</td>\n",
       "      <td>I was at home and I heard a loud sound of spit...</td>\n",
       "      <td>NaN</td>\n",
       "      <td>NaN</td>\n",
       "      <td>NaN</td>\n",
       "    </tr>\n",
       "    <tr>\n",
       "      <th>7477</th>\n",
       "      <td>[</td>\n",
       "      <td>0.0</td>\n",
       "      <td>0.0</td>\n",
       "      <td>0.0</td>\n",
       "      <td>0.0</td>\n",
       "      <td>0.0</td>\n",
       "      <td>1.0</td>\n",
       "      <td>0.]</td>\n",
       "      <td>I did not do the homework that the teacher had...</td>\n",
       "      <td>NaN</td>\n",
       "      <td>NaN</td>\n",
       "      <td>NaN</td>\n",
       "    </tr>\n",
       "    <tr>\n",
       "      <th>7478</th>\n",
       "      <td>[</td>\n",
       "      <td>0.0</td>\n",
       "      <td>0.0</td>\n",
       "      <td>0.0</td>\n",
       "      <td>0.0</td>\n",
       "      <td>0.0</td>\n",
       "      <td>0.0</td>\n",
       "      <td>1.]</td>\n",
       "      <td>I had shouted at my younger brother and he was...</td>\n",
       "      <td>NaN</td>\n",
       "      <td>NaN</td>\n",
       "      <td>NaN</td>\n",
       "    </tr>\n",
       "  </tbody>\n",
       "</table>\n",
       "<p>7479 rows × 12 columns</p>\n",
       "</div>"
      ],
      "text/plain": [
       "      [   1.   0.  0..1  0..2  0..3  0..4  0.]  \\\n",
       "0     [  0.0  1.0   0.0   0.0   0.0   0.0  0.]   \n",
       "1     [  0.0  0.0   1.0   0.0   0.0   0.0  0.]   \n",
       "2     [  0.0  0.0   0.0   1.0   0.0   0.0  0.]   \n",
       "3     [  0.0  0.0   0.0   0.0   1.0   0.0  0.]   \n",
       "4     [  0.0  0.0   0.0   0.0   0.0   1.0  0.]   \n",
       "...  ..  ...  ...   ...   ...   ...   ...  ...   \n",
       "7474  [  0.0  0.0   1.0   0.0   0.0   0.0  0.]   \n",
       "7475  [  0.0  0.0   0.0   1.0   0.0   0.0  0.]   \n",
       "7476  [  0.0  0.0   0.0   0.0   1.0   0.0  0.]   \n",
       "7477  [  0.0  0.0   0.0   0.0   0.0   1.0  0.]   \n",
       "7478  [  0.0  0.0   0.0   0.0   0.0   0.0  1.]   \n",
       "\n",
       "     During the period of falling in love, each time that we met and especially when we had not met for a long time.  \\\n",
       "0            When I was involved in a traffic accident.                                                                \n",
       "1     When I was driving home after  several days of...                                                                \n",
       "2      When I lost the person who meant the most to me.                                                                \n",
       "3     The time I knocked a deer down - the sight of ...                                                                \n",
       "4                       When I did not speak the truth.                                                                \n",
       "...                                                 ...                                                                \n",
       "7474  Two years back someone invited me to be the tu...                                                                \n",
       "7475  I had taken the responsibility to do something...                                                                \n",
       "7476  I was at home and I heard a loud sound of spit...                                                                \n",
       "7477  I did not do the homework that the teacher had...                                                                \n",
       "7478  I had shouted at my younger brother and he was...                                                                \n",
       "\n",
       "     Unnamed: 9 Unnamed: 10 Unnamed: 11  \n",
       "0           NaN         NaN         NaN  \n",
       "1           NaN         NaN         NaN  \n",
       "2           NaN         NaN         NaN  \n",
       "3           NaN         NaN         NaN  \n",
       "4           NaN         NaN         NaN  \n",
       "...         ...         ...         ...  \n",
       "7474       seco           d         ear  \n",
       "7475      ent a           d         elt  \n",
       "7476        NaN         NaN         NaN  \n",
       "7477        NaN         NaN         NaN  \n",
       "7478        NaN         NaN         NaN  \n",
       "\n",
       "[7479 rows x 12 columns]"
      ]
     },
     "execution_count": 35,
     "metadata": {},
     "output_type": "execute_result"
    }
   ],
   "source": [
    "pd.read_fwf('../data/text.txt')"
   ]
  },
  {
   "cell_type": "code",
   "execution_count": null,
   "metadata": {},
   "outputs": [],
   "source": []
  },
  {
   "cell_type": "code",
   "execution_count": null,
   "metadata": {},
   "outputs": [],
   "source": []
  },
  {
   "cell_type": "code",
   "execution_count": null,
   "metadata": {},
   "outputs": [],
   "source": []
  },
  {
   "cell_type": "code",
   "execution_count": null,
   "metadata": {},
   "outputs": [],
   "source": []
  },
  {
   "cell_type": "code",
   "execution_count": null,
   "metadata": {},
   "outputs": [],
   "source": []
  },
  {
   "cell_type": "code",
   "execution_count": null,
   "metadata": {},
   "outputs": [],
   "source": []
  },
  {
   "cell_type": "code",
   "execution_count": null,
   "metadata": {},
   "outputs": [],
   "source": []
  },
  {
   "cell_type": "code",
   "execution_count": 78,
   "metadata": {},
   "outputs": [],
   "source": [
    "spotify_genres = pd.read_excel('../data/spotify_genre_final.xlsx')"
   ]
  },
  {
   "cell_type": "code",
   "execution_count": 82,
   "metadata": {},
   "outputs": [
    {
     "data": {
      "text/plain": [
       "pop       1161\n",
       "rock      1136\n",
       "latin     1036\n",
       "hiphop     971\n",
       "edm        956\n",
       "rap        926\n",
       "r&b        731\n",
       "Name: Genre, dtype: int64"
      ]
     },
     "execution_count": 82,
     "metadata": {},
     "output_type": "execute_result"
    }
   ],
   "source": [
    "spotify_genres['Genre'].value_counts()"
   ]
  },
  {
   "cell_type": "code",
   "execution_count": 83,
   "metadata": {},
   "outputs": [
    {
     "data": {
      "text/plain": [
       "Index(['Genre', 'Title', 'Album_cover_link', 'Artist', 'duration_ms',\n",
       "       'explicit', 'id', 'popularity', 'release_date',\n",
       "       'release_date_precision', 'total_tracks', 'danceability', 'energy',\n",
       "       'key', 'loudness', 'mode', 'speechiness', 'acousticness',\n",
       "       'instrumentalness', 'liveness', 'valence', 'tempo', 'time_signature'],\n",
       "      dtype='object')"
      ]
     },
     "execution_count": 83,
     "metadata": {},
     "output_type": "execute_result"
    }
   ],
   "source": [
    "spotify_genres.columns"
   ]
  },
  {
   "cell_type": "code",
   "execution_count": 87,
   "metadata": {},
   "outputs": [],
   "source": [
    "spotify_genres = spotify_genres[['Genre', 'Title', 'Artist', 'popularity', 'id', 'danceability', 'energy',\n",
    "       'key', 'loudness', 'mode', 'speechiness', 'acousticness',\n",
    "       'instrumentalness', 'liveness', 'valence', 'tempo']]"
   ]
  },
  {
   "cell_type": "code",
   "execution_count": 89,
   "metadata": {},
   "outputs": [
    {
     "data": {
      "text/html": [
       "<div>\n",
       "<style scoped>\n",
       "    .dataframe tbody tr th:only-of-type {\n",
       "        vertical-align: middle;\n",
       "    }\n",
       "\n",
       "    .dataframe tbody tr th {\n",
       "        vertical-align: top;\n",
       "    }\n",
       "\n",
       "    .dataframe thead th {\n",
       "        text-align: right;\n",
       "    }\n",
       "</style>\n",
       "<table border=\"1\" class=\"dataframe\">\n",
       "  <thead>\n",
       "    <tr style=\"text-align: right;\">\n",
       "      <th></th>\n",
       "      <th>Genre</th>\n",
       "      <th>Title</th>\n",
       "      <th>Artist</th>\n",
       "      <th>popularity</th>\n",
       "      <th>id</th>\n",
       "      <th>danceability</th>\n",
       "      <th>energy</th>\n",
       "      <th>key</th>\n",
       "      <th>loudness</th>\n",
       "      <th>mode</th>\n",
       "      <th>speechiness</th>\n",
       "      <th>acousticness</th>\n",
       "      <th>instrumentalness</th>\n",
       "      <th>liveness</th>\n",
       "      <th>valence</th>\n",
       "      <th>tempo</th>\n",
       "    </tr>\n",
       "  </thead>\n",
       "  <tbody>\n",
       "    <tr>\n",
       "      <th>0</th>\n",
       "      <td>rock</td>\n",
       "      <td>Baba O'Riley</td>\n",
       "      <td>The Who</td>\n",
       "      <td>75</td>\n",
       "      <td>3qiyyUfYe7CRYLucrPmulD</td>\n",
       "      <td>0.489</td>\n",
       "      <td>0.724</td>\n",
       "      <td>5</td>\n",
       "      <td>-8.367</td>\n",
       "      <td>1</td>\n",
       "      <td>0.0352</td>\n",
       "      <td>0.31300</td>\n",
       "      <td>0.185000</td>\n",
       "      <td>0.2870</td>\n",
       "      <td>0.150</td>\n",
       "      <td>117.292</td>\n",
       "    </tr>\n",
       "    <tr>\n",
       "      <th>1</th>\n",
       "      <td>rock</td>\n",
       "      <td>More Than a Feeling</td>\n",
       "      <td>Boston</td>\n",
       "      <td>78</td>\n",
       "      <td>1QEEqeFIZktqIpPI4jSVSF</td>\n",
       "      <td>0.377</td>\n",
       "      <td>0.681</td>\n",
       "      <td>7</td>\n",
       "      <td>-8.039</td>\n",
       "      <td>1</td>\n",
       "      <td>0.0298</td>\n",
       "      <td>0.00088</td>\n",
       "      <td>0.002300</td>\n",
       "      <td>0.0504</td>\n",
       "      <td>0.285</td>\n",
       "      <td>108.789</td>\n",
       "    </tr>\n",
       "    <tr>\n",
       "      <th>2</th>\n",
       "      <td>rock</td>\n",
       "      <td>(Don't Fear) The Reaper</td>\n",
       "      <td>Blue Öyster Cult</td>\n",
       "      <td>76</td>\n",
       "      <td>5QTxFnGygVM4jFQiBovmRo</td>\n",
       "      <td>0.333</td>\n",
       "      <td>0.927</td>\n",
       "      <td>9</td>\n",
       "      <td>-8.550</td>\n",
       "      <td>0</td>\n",
       "      <td>0.0733</td>\n",
       "      <td>0.00290</td>\n",
       "      <td>0.000208</td>\n",
       "      <td>0.2970</td>\n",
       "      <td>0.385</td>\n",
       "      <td>141.466</td>\n",
       "    </tr>\n",
       "    <tr>\n",
       "      <th>3</th>\n",
       "      <td>rock</td>\n",
       "      <td>Jump - 2015 Remaster</td>\n",
       "      <td>Van Halen</td>\n",
       "      <td>78</td>\n",
       "      <td>7N3PAbqfTjSEU1edb2tY8j</td>\n",
       "      <td>0.572</td>\n",
       "      <td>0.835</td>\n",
       "      <td>0</td>\n",
       "      <td>-6.219</td>\n",
       "      <td>1</td>\n",
       "      <td>0.0317</td>\n",
       "      <td>0.17100</td>\n",
       "      <td>0.000377</td>\n",
       "      <td>0.0702</td>\n",
       "      <td>0.795</td>\n",
       "      <td>129.981</td>\n",
       "    </tr>\n",
       "    <tr>\n",
       "      <th>4</th>\n",
       "      <td>rock</td>\n",
       "      <td>Stairway to Heaven - Remaster</td>\n",
       "      <td>Led Zeppelin</td>\n",
       "      <td>79</td>\n",
       "      <td>5CQ30WqJwcep0pYcV4AMNc</td>\n",
       "      <td>0.338</td>\n",
       "      <td>0.340</td>\n",
       "      <td>9</td>\n",
       "      <td>-12.049</td>\n",
       "      <td>0</td>\n",
       "      <td>0.0339</td>\n",
       "      <td>0.58000</td>\n",
       "      <td>0.003200</td>\n",
       "      <td>0.1160</td>\n",
       "      <td>0.197</td>\n",
       "      <td>82.433</td>\n",
       "    </tr>\n",
       "  </tbody>\n",
       "</table>\n",
       "</div>"
      ],
      "text/plain": [
       "  Genre                          Title            Artist  popularity  \\\n",
       "0  rock                   Baba O'Riley           The Who          75   \n",
       "1  rock            More Than a Feeling            Boston          78   \n",
       "2  rock        (Don't Fear) The Reaper  Blue Öyster Cult          76   \n",
       "3  rock           Jump - 2015 Remaster         Van Halen          78   \n",
       "4  rock  Stairway to Heaven - Remaster      Led Zeppelin          79   \n",
       "\n",
       "                       id  danceability  energy  key  loudness  mode  \\\n",
       "0  3qiyyUfYe7CRYLucrPmulD         0.489   0.724    5    -8.367     1   \n",
       "1  1QEEqeFIZktqIpPI4jSVSF         0.377   0.681    7    -8.039     1   \n",
       "2  5QTxFnGygVM4jFQiBovmRo         0.333   0.927    9    -8.550     0   \n",
       "3  7N3PAbqfTjSEU1edb2tY8j         0.572   0.835    0    -6.219     1   \n",
       "4  5CQ30WqJwcep0pYcV4AMNc         0.338   0.340    9   -12.049     0   \n",
       "\n",
       "   speechiness  acousticness  instrumentalness  liveness  valence    tempo  \n",
       "0       0.0352       0.31300          0.185000    0.2870    0.150  117.292  \n",
       "1       0.0298       0.00088          0.002300    0.0504    0.285  108.789  \n",
       "2       0.0733       0.00290          0.000208    0.2970    0.385  141.466  \n",
       "3       0.0317       0.17100          0.000377    0.0702    0.795  129.981  \n",
       "4       0.0339       0.58000          0.003200    0.1160    0.197   82.433  "
      ]
     },
     "execution_count": 89,
     "metadata": {},
     "output_type": "execute_result"
    }
   ],
   "source": [
    "spotify_genres.head()"
   ]
  },
  {
   "cell_type": "code",
   "execution_count": 99,
   "metadata": {},
   "outputs": [],
   "source": [
    "from sklearn.model_selection import train_test_split"
   ]
  },
  {
   "cell_type": "code",
   "execution_count": 100,
   "metadata": {},
   "outputs": [],
   "source": [
    "# data to be used in the model will be \n",
    "data = spotify_genres # pd.read_excel('../data/spotify_genre_final.xlsx')[['Genre', 'Title', 'Artist', 'popularity', 'id', 'danceability', 'energy', 'key', 'loudness', 'mode', 'speechiness', 'acousticness', 'instrumentalness', 'liveness', 'valence', 'tempo']]\n",
    "\n",
    "train_data, test_data = train_test_split(data, test_size=0.3, random_state=42)"
   ]
  },
  {
   "cell_type": "code",
   "execution_count": 101,
   "metadata": {},
   "outputs": [],
   "source": [
    "from sklearn.ensemble import RandomForestClassifier\n",
    "rfc = RandomForestClassifier(n_estimators=100)"
   ]
  },
  {
   "cell_type": "code",
   "execution_count": 102,
   "metadata": {},
   "outputs": [],
   "source": [
    "features = ['danceability', 'energy', 'key', 'loudness', 'mode', 'speechiness', 'acousticness', 'instrumentalness', 'liveness', 'valence', 'tempo']"
   ]
  },
  {
   "cell_type": "code",
   "execution_count": 103,
   "metadata": {},
   "outputs": [],
   "source": [
    "train_features = train_data[features]\n",
    "train_target = train_data['Genre']"
   ]
  },
  {
   "cell_type": "code",
   "execution_count": 104,
   "metadata": {},
   "outputs": [],
   "source": [
    "test_features = test_data[features]\n",
    "test_target = test_data['Genre']"
   ]
  },
  {
   "cell_type": "code",
   "execution_count": 118,
   "metadata": {},
   "outputs": [
    {
     "data": {
      "text/html": [
       "<style>#sk-container-id-3 {color: black;background-color: white;}#sk-container-id-3 pre{padding: 0;}#sk-container-id-3 div.sk-toggleable {background-color: white;}#sk-container-id-3 label.sk-toggleable__label {cursor: pointer;display: block;width: 100%;margin-bottom: 0;padding: 0.3em;box-sizing: border-box;text-align: center;}#sk-container-id-3 label.sk-toggleable__label-arrow:before {content: \"▸\";float: left;margin-right: 0.25em;color: #696969;}#sk-container-id-3 label.sk-toggleable__label-arrow:hover:before {color: black;}#sk-container-id-3 div.sk-estimator:hover label.sk-toggleable__label-arrow:before {color: black;}#sk-container-id-3 div.sk-toggleable__content {max-height: 0;max-width: 0;overflow: hidden;text-align: left;background-color: #f0f8ff;}#sk-container-id-3 div.sk-toggleable__content pre {margin: 0.2em;color: black;border-radius: 0.25em;background-color: #f0f8ff;}#sk-container-id-3 input.sk-toggleable__control:checked~div.sk-toggleable__content {max-height: 200px;max-width: 100%;overflow: auto;}#sk-container-id-3 input.sk-toggleable__control:checked~label.sk-toggleable__label-arrow:before {content: \"▾\";}#sk-container-id-3 div.sk-estimator input.sk-toggleable__control:checked~label.sk-toggleable__label {background-color: #d4ebff;}#sk-container-id-3 div.sk-label input.sk-toggleable__control:checked~label.sk-toggleable__label {background-color: #d4ebff;}#sk-container-id-3 input.sk-hidden--visually {border: 0;clip: rect(1px 1px 1px 1px);clip: rect(1px, 1px, 1px, 1px);height: 1px;margin: -1px;overflow: hidden;padding: 0;position: absolute;width: 1px;}#sk-container-id-3 div.sk-estimator {font-family: monospace;background-color: #f0f8ff;border: 1px dotted black;border-radius: 0.25em;box-sizing: border-box;margin-bottom: 0.5em;}#sk-container-id-3 div.sk-estimator:hover {background-color: #d4ebff;}#sk-container-id-3 div.sk-parallel-item::after {content: \"\";width: 100%;border-bottom: 1px solid gray;flex-grow: 1;}#sk-container-id-3 div.sk-label:hover label.sk-toggleable__label {background-color: #d4ebff;}#sk-container-id-3 div.sk-serial::before {content: \"\";position: absolute;border-left: 1px solid gray;box-sizing: border-box;top: 0;bottom: 0;left: 50%;z-index: 0;}#sk-container-id-3 div.sk-serial {display: flex;flex-direction: column;align-items: center;background-color: white;padding-right: 0.2em;padding-left: 0.2em;position: relative;}#sk-container-id-3 div.sk-item {position: relative;z-index: 1;}#sk-container-id-3 div.sk-parallel {display: flex;align-items: stretch;justify-content: center;background-color: white;position: relative;}#sk-container-id-3 div.sk-item::before, #sk-container-id-3 div.sk-parallel-item::before {content: \"\";position: absolute;border-left: 1px solid gray;box-sizing: border-box;top: 0;bottom: 0;left: 50%;z-index: -1;}#sk-container-id-3 div.sk-parallel-item {display: flex;flex-direction: column;z-index: 1;position: relative;background-color: white;}#sk-container-id-3 div.sk-parallel-item:first-child::after {align-self: flex-end;width: 50%;}#sk-container-id-3 div.sk-parallel-item:last-child::after {align-self: flex-start;width: 50%;}#sk-container-id-3 div.sk-parallel-item:only-child::after {width: 0;}#sk-container-id-3 div.sk-dashed-wrapped {border: 1px dashed gray;margin: 0 0.4em 0.5em 0.4em;box-sizing: border-box;padding-bottom: 0.4em;background-color: white;}#sk-container-id-3 div.sk-label label {font-family: monospace;font-weight: bold;display: inline-block;line-height: 1.2em;}#sk-container-id-3 div.sk-label-container {text-align: center;}#sk-container-id-3 div.sk-container {/* jupyter's `normalize.less` sets `[hidden] { display: none; }` but bootstrap.min.css set `[hidden] { display: none !important; }` so we also need the `!important` here to be able to override the default hidden behavior on the sphinx rendered scikit-learn.org. See: https://github.com/scikit-learn/scikit-learn/issues/21755 */display: inline-block !important;position: relative;}#sk-container-id-3 div.sk-text-repr-fallback {display: none;}</style><div id=\"sk-container-id-3\" class=\"sk-top-container\"><div class=\"sk-text-repr-fallback\"><pre>RandomForestClassifier()</pre><b>In a Jupyter environment, please rerun this cell to show the HTML representation or trust the notebook. <br />On GitHub, the HTML representation is unable to render, please try loading this page with nbviewer.org.</b></div><div class=\"sk-container\" hidden><div class=\"sk-item\"><div class=\"sk-estimator sk-toggleable\"><input class=\"sk-toggleable__control sk-hidden--visually\" id=\"sk-estimator-id-3\" type=\"checkbox\" checked><label for=\"sk-estimator-id-3\" class=\"sk-toggleable__label sk-toggleable__label-arrow\">RandomForestClassifier</label><div class=\"sk-toggleable__content\"><pre>RandomForestClassifier()</pre></div></div></div></div></div>"
      ],
      "text/plain": [
       "RandomForestClassifier()"
      ]
     },
     "execution_count": 118,
     "metadata": {},
     "output_type": "execute_result"
    }
   ],
   "source": [
    "rfc.fit(train_features, train_target)"
   ]
  },
  {
   "cell_type": "code",
   "execution_count": 106,
   "metadata": {},
   "outputs": [],
   "source": [
    "predictions = rfc.predict(test_features)"
   ]
  },
  {
   "cell_type": "code",
   "execution_count": 107,
   "metadata": {},
   "outputs": [
    {
     "name": "stdout",
     "output_type": "stream",
     "text": [
      "Accuracy: 0.4735067437379576\n"
     ]
    }
   ],
   "source": [
    "accuracy = (predictions == test_target).sum() / len(predictions)\n",
    "print(f\"Accuracy: {accuracy}\")"
   ]
  },
  {
   "cell_type": "code",
   "execution_count": 108,
   "metadata": {},
   "outputs": [
    {
     "name": "stdout",
     "output_type": "stream",
     "text": [
      "Best parameters: {'max_depth': 5, 'max_features': 'log2', 'n_estimators': 100}\n",
      "Accuracy: 0.48729413470477356\n"
     ]
    }
   ],
   "source": [
    "from sklearn.model_selection import GridSearchCV\n",
    "\n",
    "# Define the parameter grid to search\n",
    "param_grid = {\n",
    "    'n_estimators': [50, 100, 200],\n",
    "    'max_depth': [5, 10, 20, None],\n",
    "    'max_features': ['sqrt', 'log2']\n",
    "}\n",
    "\n",
    "# Initialize a random forest classifier\n",
    "rfc = RandomForestClassifier()\n",
    "\n",
    "# Perform a grid search to find the best hyperparameters\n",
    "grid_search = GridSearchCV(rfc, param_grid, cv=5)\n",
    "grid_search.fit(train_features, train_target)\n",
    "\n",
    "# Print the best hyperparameters and the corresponding accuracy\n",
    "print(f\"Best parameters: {grid_search.best_params_}\")\n",
    "print(f\"Accuracy: {grid_search.best_score_}\")\n"
   ]
  },
  {
   "cell_type": "code",
   "execution_count": 109,
   "metadata": {},
   "outputs": [
    {
     "data": {
      "text/plain": [
       "['genre_mode_spotify_project']"
      ]
     },
     "execution_count": 109,
     "metadata": {},
     "output_type": "execute_result"
    }
   ],
   "source": [
    "import joblib\n",
    "\n",
    "# Save the trained model\n",
    "joblib.dump(rfc, 'genre_mode_spotify_project')"
   ]
  },
  {
   "cell_type": "code",
   "execution_count": 127,
   "metadata": {},
   "outputs": [
    {
     "data": {
      "text/plain": [
       "['new_genre_mode_spotify_project']"
      ]
     },
     "execution_count": 127,
     "metadata": {},
     "output_type": "execute_result"
    }
   ],
   "source": [
    "rfc = RandomForestClassifier(n_estimators = 100, max_depth = 5, max_features = 'log2')\n",
    "rfc.fit(train_features, train_target)\n",
    "joblib.dump(rfc, 'new_genre_mode_spotify_project')"
   ]
  },
  {
   "cell_type": "code",
   "execution_count": 128,
   "metadata": {},
   "outputs": [
    {
     "name": "stdout",
     "output_type": "stream",
     "text": [
      "['pop']\n"
     ]
    }
   ],
   "source": [
    "# Load the saved model\n",
    "rfc = joblib.load('new_genre_mode_spotify_project')\n",
    "\n",
    "# Prepare the new data\n",
    "\n",
    "new_data = pd.DataFrame({\n",
    "    'danceability': [0.5],\n",
    "    'energy': [0.5],\n",
    "    'key': [1],\n",
    "    'loudness': [-6.5],\n",
    "    'mode': [0],\n",
    "    'speechiness': [0.06],\n",
    "    'acousticness': [0.23],\n",
    "    'instrumentalness': [0.0],\n",
    "    'liveness': [0.44],\n",
    "    'valence': [0.5],\n",
    "    'tempo': [66.9]\n",
    "})\n",
    "\n",
    "# Make predictions on the new data\n",
    "predictions = rfc.predict(new_data)\n",
    "print(predictions)\n"
   ]
  },
  {
   "cell_type": "code",
   "execution_count": 111,
   "metadata": {},
   "outputs": [
    {
     "data": {
      "text/plain": [
       "dict_keys(['Name', 'Artist', 'Popularity', 'Song ID', 'Danceability', 'Energy', 'Key', 'Loudness', 'Mode', 'Speechiness', 'Acousticness', 'Instrumentalness', 'Liveness', 'Valence', 'Tempo', 'Lyrics', 'Positive', 'Neutral', 'Negative', 'Compound'])"
      ]
     },
     "execution_count": 111,
     "metadata": {},
     "output_type": "execute_result"
    }
   ],
   "source": [
    "track_items_dict.keys()"
   ]
  },
  {
   "cell_type": "code",
   "execution_count": 116,
   "metadata": {},
   "outputs": [
    {
     "data": {
      "text/html": [
       "<div>\n",
       "<style scoped>\n",
       "    .dataframe tbody tr th:only-of-type {\n",
       "        vertical-align: middle;\n",
       "    }\n",
       "\n",
       "    .dataframe tbody tr th {\n",
       "        vertical-align: top;\n",
       "    }\n",
       "\n",
       "    .dataframe thead th {\n",
       "        text-align: right;\n",
       "    }\n",
       "</style>\n",
       "<table border=\"1\" class=\"dataframe\">\n",
       "  <thead>\n",
       "    <tr style=\"text-align: right;\">\n",
       "      <th></th>\n",
       "      <th>danceability</th>\n",
       "      <th>energy</th>\n",
       "      <th>key</th>\n",
       "      <th>loudness</th>\n",
       "      <th>mode</th>\n",
       "      <th>speechiness</th>\n",
       "      <th>acousticness</th>\n",
       "      <th>instrumentalness</th>\n",
       "      <th>liveness</th>\n",
       "      <th>valence</th>\n",
       "      <th>tempo</th>\n",
       "    </tr>\n",
       "  </thead>\n",
       "  <tbody>\n",
       "    <tr>\n",
       "      <th>0</th>\n",
       "      <td>0.5</td>\n",
       "      <td>0.5</td>\n",
       "      <td>1</td>\n",
       "      <td>-6.5</td>\n",
       "      <td>0</td>\n",
       "      <td>0.06</td>\n",
       "      <td>0.23</td>\n",
       "      <td>0.0</td>\n",
       "      <td>0.44</td>\n",
       "      <td>0.5</td>\n",
       "      <td>66.9</td>\n",
       "    </tr>\n",
       "  </tbody>\n",
       "</table>\n",
       "</div>"
      ],
      "text/plain": [
       "   danceability  energy  key  loudness  mode  speechiness  acousticness  \\\n",
       "0           0.5     0.5    1      -6.5     0         0.06          0.23   \n",
       "\n",
       "   instrumentalness  liveness  valence  tempo  \n",
       "0               0.0      0.44      0.5   66.9  "
      ]
     },
     "execution_count": 116,
     "metadata": {},
     "output_type": "execute_result"
    }
   ],
   "source": [
    "pd.DataFrame({\n",
    "    'danceability': [0.5],\n",
    "    'energy': [0.5],\n",
    "    'key': [1],\n",
    "    'loudness': [-6.5],\n",
    "    'mode': [0],\n",
    "    'speechiness': [0.06],\n",
    "    'acousticness': [0.23],\n",
    "    'instrumentalness': [0.0],\n",
    "    'liveness': [0.44],\n",
    "    'valence': [0.5],\n",
    "    'tempo': [66.9]\n",
    "})"
   ]
  },
  {
   "cell_type": "code",
   "execution_count": 115,
   "metadata": {},
   "outputs": [
    {
     "data": {
      "text/plain": [
       "Name                                              Die For You - Remix\n",
       "Artist                                                     The Weeknd\n",
       "Popularity                                                         78\n",
       "Song ID                                        7oDd86yk8itslrA9HRP2ki\n",
       "Danceability                                                    0.531\n",
       "Energy                                                          0.525\n",
       "Key                                                                 1\n",
       "Loudness                                                         -6.5\n",
       "Mode                                                                0\n",
       "Speechiness                                                    0.0671\n",
       "Acousticness                                                    0.232\n",
       "Instrumentalness                                                  0.0\n",
       "Liveness                                                        0.441\n",
       "Valence                                                         0.502\n",
       "Tempo                                                            66.9\n",
       "Lyrics              TranslationsEspañolItalianoDeutschDie For You ...\n",
       "Positive                                                        0.125\n",
       "Neutral                                                         0.625\n",
       "Negative                                                         0.25\n",
       "Compound                                                      -0.9982\n",
       "Name: 0, dtype: object"
      ]
     },
     "execution_count": 115,
     "metadata": {},
     "output_type": "execute_result"
    }
   ],
   "source": [
    "df.iloc[0]"
   ]
  },
  {
   "cell_type": "code",
   "execution_count": null,
   "metadata": {},
   "outputs": [],
   "source": []
  },
  {
   "cell_type": "code",
   "execution_count": 84,
   "metadata": {},
   "outputs": [
    {
     "data": {
      "text/plain": [
       "Index(['Name', 'Artist', 'Popularity', 'Song ID', 'Danceability', 'Energy',\n",
       "       'Key', 'Loudness', 'Mode', 'Speechiness', 'Acousticness',\n",
       "       'Instrumentalness', 'Liveness', 'Valence', 'Tempo', 'Lyrics',\n",
       "       'Positive', 'Neutral', 'Negative', 'Compound'],\n",
       "      dtype='object')"
      ]
     },
     "execution_count": 84,
     "metadata": {},
     "output_type": "execute_result"
    }
   ],
   "source": [
    "df.columns"
   ]
  },
  {
   "cell_type": "code",
   "execution_count": null,
   "metadata": {},
   "outputs": [],
   "source": []
  },
  {
   "cell_type": "code",
   "execution_count": null,
   "metadata": {},
   "outputs": [],
   "source": []
  },
  {
   "cell_type": "code",
   "execution_count": null,
   "metadata": {},
   "outputs": [],
   "source": []
  },
  {
   "cell_type": "code",
   "execution_count": null,
   "metadata": {},
   "outputs": [],
   "source": []
  },
  {
   "cell_type": "code",
   "execution_count": null,
   "metadata": {},
   "outputs": [],
   "source": []
  },
  {
   "cell_type": "code",
   "execution_count": null,
   "metadata": {},
   "outputs": [],
   "source": []
  },
  {
   "cell_type": "code",
   "execution_count": null,
   "metadata": {},
   "outputs": [],
   "source": []
  },
  {
   "cell_type": "code",
   "execution_count": null,
   "metadata": {},
   "outputs": [],
   "source": []
  },
  {
   "cell_type": "code",
   "execution_count": null,
   "metadata": {},
   "outputs": [],
   "source": []
  },
  {
   "cell_type": "markdown",
   "metadata": {},
   "source": [
    "PDF Panda R., Malheiro R. & Paiva R. P. (2018). “Novel audio features for music emotion recognition”. IEEE Transactions on Affective Computing (IEEE early access). DOI: 10.1109/TAFFC.2018.2820691.\n",
    "\n",
    "PDFPanda R., Malheiro R., Paiva R. P. (2018). “Musical Texture and Expressivity Features for Music Emotion Recognition”. 19th International Society for Music Information Retrieval Conference – ISMIR 2018, Paris, France."
   ]
  },
  {
   "cell_type": "code",
   "execution_count": 15,
   "metadata": {},
   "outputs": [
    {
     "data": {
      "text/plain": [
       "['amusement',\n",
       " 'joy',\n",
       " 'eroticism',\n",
       " 'beauty',\n",
       " 'relaxation',\n",
       " 'sadness',\n",
       " 'dreaminess',\n",
       " 'triumph',\n",
       " 'anxiety',\n",
       " 'scariness',\n",
       " 'annoyance',\n",
       " 'defiance',\n",
       " 'feeling pumped up']"
      ]
     },
     "execution_count": 15,
     "metadata": {},
     "output_type": "execute_result"
    }
   ],
   "source": [
    "emotions_list = ['amusement', 'joy', 'eroticism', 'beauty', 'relaxation', 'sadness', 'dreaminess', 'triumph', 'anxiety', 'scariness', 'annoyance', 'defiance', 'feeling pumped up']\n",
    "emotions_list"
   ]
  },
  {
   "cell_type": "code",
   "execution_count": 17,
   "metadata": {},
   "outputs": [
    {
     "name": "stderr",
     "output_type": "stream",
     "text": [
      "[nltk_data] Downloading package stopwords to\n",
      "[nltk_data]     /Users/gerardrius/nltk_data...\n",
      "[nltk_data]   Package stopwords is already up-to-date!\n"
     ]
    }
   ],
   "source": [
    "import nltk\n",
    "from nltk.corpus import stopwords\n",
    "from nltk.stem import PorterStemmer\n",
    "from nltk.tokenize import word_tokenize\n",
    "import string\n",
    "\n",
    "# Load stop words\n",
    "nltk.download('stopwords')\n",
    "stop_words = set(stopwords.words('english'))\n",
    "\n",
    "# Load Porter Stemmer\n",
    "stemmer = PorterStemmer()\n",
    "\n",
    "# Load song lyrics\n",
    "lyrics = df.iloc[1]['Lyrics']\n",
    "\n",
    "# Remove punctuation and convert to lowercase\n",
    "lyrics = lyrics.translate(str.maketrans('', '', string.punctuation))\n",
    "lyrics = lyrics.lower()\n",
    "\n",
    "# Tokenize words\n",
    "words = word_tokenize(lyrics)\n",
    "\n",
    "# Remove stop words and stem words\n",
    "words = [stemmer.stem(word) for word in words if word not in stop_words]\n"
   ]
  },
  {
   "cell_type": "code",
   "execution_count": 24,
   "metadata": {},
   "outputs": [],
   "source": [
    "audio_features_request_base = \"https://api.spotify.com/v1/audio-features/\"\n",
    "test_request_here = audio_features_request_base + '2HvvnVkD1kcnaYjgKO5E5c'\n",
    "audio_features_here = requests.get(test_request_here, headers=headers).json() "
   ]
  },
  {
   "cell_type": "code",
   "execution_count": 27,
   "metadata": {},
   "outputs": [],
   "source": [
    "def one_song_feature (song_id):\n",
    "    headers = cred.query_header (spotify_token)\n",
    "    audio_features_request_base = \"https://api.spotify.com/v1/audio-features/\"\n",
    "    song_request = audio_features_request_base + song_id\n",
    "    features = requests.get(song_request, headers=headers).json()\n",
    "    return features"
   ]
  },
  {
   "cell_type": "code",
   "execution_count": 30,
   "metadata": {},
   "outputs": [],
   "source": [
    "test_features = one_song_feature ('0yLdNVWF3Srea0uzk55zFn')"
   ]
  },
  {
   "cell_type": "code",
   "execution_count": 49,
   "metadata": {},
   "outputs": [],
   "source": [
    "import numpy as np\n",
    "from sklearn.feature_extraction.text import CountVectorizer\n",
    "\n",
    "# Create Bag-of-Words matrix\n",
    "vectorizer = CountVectorizer()\n",
    "X_lyrics = vectorizer.fit_transform([lyrics]).toarray()"
   ]
  },
  {
   "cell_type": "code",
   "execution_count": 56,
   "metadata": {},
   "outputs": [
    {
     "data": {
      "text/plain": [
       "array([ 9, 39, 36,  4, 79,  2, 43, 78, 42])"
      ]
     },
     "execution_count": 56,
     "metadata": {},
     "output_type": "execute_result"
    }
   ],
   "source": [
    "X_lyrics\n",
    "counts = np.sum(X_lyrics, axis=0)\n",
    "top_indices = np.argsort(counts)[::-1][:9]\n",
    "\n",
    "top_indices\n",
    "word_counts = dict(zip(vocabulary, counts))\n"
   ]
  },
  {
   "cell_type": "code",
   "execution_count": 61,
   "metadata": {},
   "outputs": [
    {
     "data": {
      "text/plain": [
       "array([ 7.07000e-01,  6.81000e-01, -4.32500e+00,  6.68000e-02,\n",
       "        6.32000e-02,  5.15000e-06,  3.22000e-02,  6.46000e-01,\n",
       "        1.17999e+02])"
      ]
     },
     "execution_count": 61,
     "metadata": {},
     "output_type": "execute_result"
    }
   ],
   "source": [
    "test_array = np.array([test_features[feature] for feature in ['danceability', 'energy', 'loudness', 'speechiness', 'acousticness', 'instrumentalness', 'liveness', 'valence', 'tempo']])\n",
    "test_array"
   ]
  },
  {
   "cell_type": "code",
   "execution_count": 41,
   "metadata": {},
   "outputs": [
    {
     "name": "stdout",
     "output_type": "stream",
     "text": [
      "(1, 80)\n",
      "(1, 9)\n"
     ]
    }
   ],
   "source": [
    "print(X_lyrics.shape)\n",
    "print(np.array([[test_features[feature] for feature in ['danceability', 'energy', 'loudness', 'speechiness', 'acousticness', 'instrumentalness', 'liveness', 'valence', 'tempo']]]).shape)"
   ]
  },
  {
   "cell_type": "code",
   "execution_count": 39,
   "metadata": {},
   "outputs": [
    {
     "ename": "ValueError",
     "evalue": "all the input array dimensions for the concatenation axis must match exactly, but along dimension 1, the array at index 0 has size 80 and the array at index 1 has size 9",
     "output_type": "error",
     "traceback": [
      "\u001b[0;31m---------------------------------------------------------------------------\u001b[0m",
      "\u001b[0;31mValueError\u001b[0m                                Traceback (most recent call last)",
      "\u001b[1;32m/Users/gerardrius/Ironhack/projects/Project-IV/src/1-responses.ipynb Cell 41\u001b[0m in \u001b[0;36m<cell line: 2>\u001b[0;34m()\u001b[0m\n\u001b[1;32m      <a href='vscode-notebook-cell:/Users/gerardrius/Ironhack/projects/Project-IV/src/1-responses.ipynb#Y303sZmlsZQ%3D%3D?line=0'>1</a>\u001b[0m \u001b[39m# Create feature vector\u001b[39;00m\n\u001b[0;32m----> <a href='vscode-notebook-cell:/Users/gerardrius/Ironhack/projects/Project-IV/src/1-responses.ipynb#Y303sZmlsZQ%3D%3D?line=1'>2</a>\u001b[0m X \u001b[39m=\u001b[39m np\u001b[39m.\u001b[39;49mconcatenate((X_lyrics, np\u001b[39m.\u001b[39;49marray([[test_features[feature] \u001b[39mfor\u001b[39;49;00m feature \u001b[39min\u001b[39;49;00m [\u001b[39m'\u001b[39;49m\u001b[39mdanceability\u001b[39;49m\u001b[39m'\u001b[39;49m, \u001b[39m'\u001b[39;49m\u001b[39menergy\u001b[39;49m\u001b[39m'\u001b[39;49m, \u001b[39m'\u001b[39;49m\u001b[39mloudness\u001b[39;49m\u001b[39m'\u001b[39;49m, \u001b[39m'\u001b[39;49m\u001b[39mspeechiness\u001b[39;49m\u001b[39m'\u001b[39;49m, \u001b[39m'\u001b[39;49m\u001b[39macousticness\u001b[39;49m\u001b[39m'\u001b[39;49m, \u001b[39m'\u001b[39;49m\u001b[39minstrumentalness\u001b[39;49m\u001b[39m'\u001b[39;49m, \u001b[39m'\u001b[39;49m\u001b[39mliveness\u001b[39;49m\u001b[39m'\u001b[39;49m, \u001b[39m'\u001b[39;49m\u001b[39mvalence\u001b[39;49m\u001b[39m'\u001b[39;49m, \u001b[39m'\u001b[39;49m\u001b[39mtempo\u001b[39;49m\u001b[39m'\u001b[39;49m]]])))\n",
      "File \u001b[0;32m<__array_function__ internals>:180\u001b[0m, in \u001b[0;36mconcatenate\u001b[0;34m(*args, **kwargs)\u001b[0m\n",
      "\u001b[0;31mValueError\u001b[0m: all the input array dimensions for the concatenation axis must match exactly, but along dimension 1, the array at index 0 has size 80 and the array at index 1 has size 9"
     ]
    }
   ],
   "source": [
    "\n",
    "# Create feature vector\n",
    "X = np.concatenate((X_lyrics, np.array([[test_features[feature] for feature in ['danceability', 'energy', 'loudness', 'speechiness', 'acousticness', 'instrumentalness', 'liveness', 'valence', 'tempo']]])))"
   ]
  },
  {
   "cell_type": "code",
   "execution_count": null,
   "metadata": {},
   "outputs": [],
   "source": [
    "from sklearn.ensemble import RandomForestClassifier\n",
    "\n",
    "# Define emotions list\n",
    "emotions_list = ['amusement', 'joy', 'eroticism', 'beauty', 'relaxation', 'sadness', 'dreaminess', 'triumph', 'anxiety', 'scariness', 'annoyance', 'defiance', 'feeling pumped up']\n",
    "\n",
    "# Load pre-trained random forest classifier\n",
    "clf = joblib.load('random_forest_classifier.joblib')\n",
    "\n",
    "# Predict emotion\n",
    "y_pred = clf.predict([X])[0]\n",
    "\n",
    "# Print predicted emotion\n",
    "print(emotions_list[y_pred])\n",
    "\n"
   ]
  },
  {
   "cell_type": "code",
   "execution_count": null,
   "metadata": {},
   "outputs": [],
   "source": []
  }
 ],
 "metadata": {
  "kernelspec": {
   "display_name": "ironhack",
   "language": "python",
   "name": "python3"
  },
  "language_info": {
   "codemirror_mode": {
    "name": "ipython",
    "version": 3
   },
   "file_extension": ".py",
   "mimetype": "text/x-python",
   "name": "python",
   "nbconvert_exporter": "python",
   "pygments_lexer": "ipython3",
   "version": "3.9.12"
  },
  "orig_nbformat": 4,
  "vscode": {
   "interpreter": {
    "hash": "79e8e12960902be9b96136e06f35e6a59d5d8c359e0492f5e08d8a671bbdf383"
   }
  }
 },
 "nbformat": 4,
 "nbformat_minor": 2
}

{
 "cells": [
  {
   "cell_type": "code",
   "execution_count": 14,
   "metadata": {},
   "outputs": [
    {
     "data": {
      "text/plain": [
       "True"
      ]
     },
     "execution_count": 14,
     "metadata": {},
     "output_type": "execute_result"
    }
   ],
   "source": [
    "from dotenv import load_dotenv\n",
    "import os\n",
    "import requests\n",
    "import spotipy\n",
    "import time\n",
    "from spotipy.oauth2 import SpotifyClientCredentials #To access authorised Spotify data4\n",
    "import pandas as pd\n",
    "import random\n",
    "load_dotenv()"
   ]
  },
  {
   "cell_type": "code",
   "execution_count": 15,
   "metadata": {},
   "outputs": [],
   "source": [
    "spotify_id = os.getenv('id')\n",
    "spotify_secret = os.getenv('secret')\n",
    "\n",
    "# stack overflow\n",
    "client_id = os.getenv('id')\n",
    "client_secret = os.getenv('secret')\n",
    "client_credentials_manager = SpotifyClientCredentials(client_id=client_id, client_secret=client_secret)\n",
    "sp = spotipy.Spotify(client_credentials_manager=client_credentials_manager)\n",
    "sp.trace=False"
   ]
  },
  {
   "cell_type": "code",
   "execution_count": 16,
   "metadata": {},
   "outputs": [],
   "source": [
    "body_params = {\"grant_type\":\"client_credentials\"}\n",
    "url = \"https://accounts.spotify.com/api/token\"\n",
    "response = requests.post(url, data=body_params, auth=(spotify_id,spotify_secret))"
   ]
  },
  {
   "cell_type": "code",
   "execution_count": 17,
   "metadata": {},
   "outputs": [],
   "source": [
    "def spotifyToken ():\n",
    "    \"\"\"This function refreshes a token for a given app on Spotify\n",
    "    returns: token as a string\n",
    "    \"\"\"\n",
    "\n",
    "    # 1. Defining: credentials fot the app\n",
    "    CLIENT_ID = os.getenv(\"id\")\n",
    "    CLIENT_SECRET = os.getenv(\"secret\")\n",
    "    \n",
    "    #2. Request\n",
    "    body_params = {\"grant_type\":\"client_credentials\"}\n",
    "    url = \"https://accounts.spotify.com/api/token\"\n",
    "    response = requests.post(url, data=body_params, auth=(CLIENT_ID,CLIENT_SECRET))\n",
    "    \n",
    "    try:\n",
    "        token = response.json()[\"access_token\"]\n",
    "        return token\n",
    "\n",
    "    except:\n",
    "        print(\"The request did not go through: wrong credentials!\")"
   ]
  },
  {
   "cell_type": "code",
   "execution_count": 18,
   "metadata": {},
   "outputs": [],
   "source": [
    "token  = spotifyToken()\n",
    "headers = {\"Authorization\":f\"Bearer {token}\"}"
   ]
  },
  {
   "cell_type": "code",
   "execution_count": 19,
   "metadata": {},
   "outputs": [],
   "source": [
    "url_base = \"https://api.spotify.com/v1/playlists/\"\n",
    "playlist_url = 'https://open.spotify.com/playlist/37i9dQZF1DXcBWIGoYBM5M?si=b705194596334305'"
   ]
  },
  {
   "cell_type": "code",
   "execution_count": 20,
   "metadata": {},
   "outputs": [],
   "source": [
    "def playlist_id (playlist_link):\n",
    "    return playlist_link.split(\"/\")[-1].split(\"?\")[0]"
   ]
  },
  {
   "cell_type": "code",
   "execution_count": 21,
   "metadata": {},
   "outputs": [],
   "source": [
    "example_id = playlist_id(playlist_url)"
   ]
  },
  {
   "cell_type": "code",
   "execution_count": 22,
   "metadata": {},
   "outputs": [],
   "source": [
    "example_query = url_base + example_id"
   ]
  },
  {
   "cell_type": "code",
   "execution_count": 23,
   "metadata": {},
   "outputs": [],
   "source": [
    "example_response = requests.get(example_query, headers=headers).json()"
   ]
  },
  {
   "cell_type": "code",
   "execution_count": 24,
   "metadata": {},
   "outputs": [],
   "source": [
    "# href of each song:\n",
    "song_href_list = [example_response['tracks']['items'][i]['track']['href'] for i in range(len(example_response['tracks']['items']))] # if you can, rephrase it to make it more sintetized."
   ]
  },
  {
   "cell_type": "code",
   "execution_count": 25,
   "metadata": {},
   "outputs": [],
   "source": [
    "# name of each song:\n",
    "song_name_list = [example_response['tracks']['items'][i]['track']['name'] for i in range(len(example_response['tracks']['items']))] # if you can, rephrase it to make it more sintetized."
   ]
  },
  {
   "cell_type": "code",
   "execution_count": 54,
   "metadata": {},
   "outputs": [],
   "source": [
    "# name of each song's artist:\n",
    "song_artist_list = [example_response['tracks']['items'][i]['track']['artists'][0]['name'] for i in range(len(example_response['tracks']['items']))] # if you can, rephrase it to make it more sintetized."
   ]
  },
  {
   "cell_type": "code",
   "execution_count": 55,
   "metadata": {},
   "outputs": [],
   "source": [
    "# uri of each song:\n",
    "song_uri_list = [example_response['tracks']['items'][i]['track']['uri'] for i in range(len(example_response))]"
   ]
  },
  {
   "cell_type": "code",
   "execution_count": 43,
   "metadata": {},
   "outputs": [
    {
     "data": {
      "text/plain": [
       "['spotify:track:7oDd86yk8itslrA9HRP2ki',\n",
       " 'spotify:track:0yLdNVWF3Srea0uzk55zFn',\n",
       " 'spotify:track:6AQbmUe0Qwf5PZnt4HmTXv',\n",
       " 'spotify:track:1Qrg8KqiBpW07V7PNxwwwL',\n",
       " 'spotify:track:5Z2MiIZ5I3jJvvmeWMLbOQ',\n",
       " 'spotify:track:2dHHgzDwk4BJdRwy9uXhTO',\n",
       " 'spotify:track:0WtM2NBVQNNJLh6scP13H8',\n",
       " 'spotify:track:0DWdj2oZMBFSzRsi2Cvfzf',\n",
       " 'spotify:track:4LRPiXqCikLlN15c3yImP7',\n",
       " 'spotify:track:6UN73IYd0hZxLi8wFPMQij',\n",
       " 'spotify:track:1xzi1Jcr7mEi9K2RfzLOqS',\n",
       " 'spotify:track:0V3wPSX9ygBnCm8psDIegu',\n",
       " 'spotify:track:5odlY52u43F5BjByhxg7wg',\n",
       " 'spotify:track:4nrPB8O7Y7wsOCJdgXkthe',\n",
       " 'spotify:track:3nqQXoyQOWXiESFLlDF1hG']"
      ]
     },
     "execution_count": 43,
     "metadata": {},
     "output_type": "execute_result"
    }
   ],
   "source": [
    "song_uri_list = []\n",
    "\n",
    "for i in range (len(example_response)):\n",
    "    song_uri_list.append(example_response['tracks']['items'][i]['track']['uri'])\n",
    "\n",
    "song_uri_list # make this list have its actual length!!!"
   ]
  },
  {
   "cell_type": "code",
   "execution_count": 13,
   "metadata": {},
   "outputs": [],
   "source": [
    "# FROM HERE, CODE OBTAINED IN STACK OVERFLOW\n",
    "# AUDIO FEATURES"
   ]
  },
  {
   "cell_type": "code",
   "execution_count": 27,
   "metadata": {},
   "outputs": [],
   "source": [
    "#your uri list goes here\n",
    "song_uri_list\n",
    "\n",
    "#put uri to dataframe\n",
    "df = pd.DataFrame(song_uri_list)\n",
    "df.columns = ['URI']\n",
    "\n",
    "df['energy'] = ''*df.shape[0]\n",
    "df['loudness'] = ''*df.shape[0]\n",
    "df['speechiness'] = ''*df.shape[0]\n",
    "df['valence'] = ''*df.shape[0]\n",
    "df['liveness'] = ''*df.shape[0]\n",
    "df['tempo'] = ''*df.shape[0]\n",
    "df['danceability'] = ''*df.shape[0]\n",
    "\n",
    "for i in range(0,df.shape[0]):\n",
    "  time.sleep(random.uniform(3, 6))\n",
    "  URI = df.URI[i]\n",
    "  features = sp.audio_features(URI)\n",
    "  df.loc[i, 'energy'] = features[0]['energy']\n",
    "  df.loc[i, 'speechiness'] = features[0]['speechiness']\n",
    "  df.loc[i, 'acousticness'] = features[0]['acousticness']\n",
    "  df.loc[i, 'instrumentalness'] = features[0]['instrumentalness']\n",
    "  df.loc[i, 'liveness'] = features[0]['liveness']\n",
    "  df.loc[i, 'loudness'] = features[0]['loudness']\n",
    "  df.loc[i, 'danceability'] = features[0]['danceability']\n",
    "  df.loc[i, 'tempo'] = features[0]['tempo']\n",
    "  df.loc[i, 'valence'] = features[0]['valence']\n",
    "  uri=0"
   ]
  },
  {
   "cell_type": "code",
   "execution_count": 29,
   "metadata": {},
   "outputs": [
    {
     "data": {
      "text/html": [
       "<div>\n",
       "<style scoped>\n",
       "    .dataframe tbody tr th:only-of-type {\n",
       "        vertical-align: middle;\n",
       "    }\n",
       "\n",
       "    .dataframe tbody tr th {\n",
       "        vertical-align: top;\n",
       "    }\n",
       "\n",
       "    .dataframe thead th {\n",
       "        text-align: right;\n",
       "    }\n",
       "</style>\n",
       "<table border=\"1\" class=\"dataframe\">\n",
       "  <thead>\n",
       "    <tr style=\"text-align: right;\">\n",
       "      <th></th>\n",
       "      <th>URI</th>\n",
       "      <th>energy</th>\n",
       "      <th>loudness</th>\n",
       "      <th>speechiness</th>\n",
       "      <th>valence</th>\n",
       "      <th>liveness</th>\n",
       "      <th>tempo</th>\n",
       "      <th>danceability</th>\n",
       "    </tr>\n",
       "  </thead>\n",
       "  <tbody>\n",
       "    <tr>\n",
       "      <th>0</th>\n",
       "      <td>spotify:track:7oDd86yk8itslrA9HRP2ki</td>\n",
       "      <td>0.525</td>\n",
       "      <td>-6.5</td>\n",
       "      <td>0.0671</td>\n",
       "      <td>0.502</td>\n",
       "      <td>0.441</td>\n",
       "      <td>66.9</td>\n",
       "      <td>0.531</td>\n",
       "    </tr>\n",
       "    <tr>\n",
       "      <th>1</th>\n",
       "      <td>spotify:track:0yLdNVWF3Srea0uzk55zFn</td>\n",
       "      <td>0.681</td>\n",
       "      <td>-4.325</td>\n",
       "      <td>0.0668</td>\n",
       "      <td>0.646</td>\n",
       "      <td>0.0322</td>\n",
       "      <td>117.999</td>\n",
       "      <td>0.707</td>\n",
       "    </tr>\n",
       "    <tr>\n",
       "      <th>2</th>\n",
       "      <td>spotify:track:6AQbmUe0Qwf5PZnt4HmTXv</td>\n",
       "      <td>0.809</td>\n",
       "      <td>-8.254</td>\n",
       "      <td>0.05</td>\n",
       "      <td>0.857</td>\n",
       "      <td>0.248</td>\n",
       "      <td>132.962</td>\n",
       "      <td>0.696</td>\n",
       "    </tr>\n",
       "    <tr>\n",
       "      <th>3</th>\n",
       "      <td>spotify:track:1Qrg8KqiBpW07V7PNxwwwL</td>\n",
       "      <td>0.735</td>\n",
       "      <td>-5.747</td>\n",
       "      <td>0.0391</td>\n",
       "      <td>0.418</td>\n",
       "      <td>0.161</td>\n",
       "      <td>88.98</td>\n",
       "      <td>0.644</td>\n",
       "    </tr>\n",
       "    <tr>\n",
       "      <th>4</th>\n",
       "      <td>spotify:track:5Z2MiIZ5I3jJvvmeWMLbOQ</td>\n",
       "      <td>0.742</td>\n",
       "      <td>-5.355</td>\n",
       "      <td>0.114</td>\n",
       "      <td>0.25</td>\n",
       "      <td>0.0934</td>\n",
       "      <td>96.107</td>\n",
       "      <td>0.538</td>\n",
       "    </tr>\n",
       "    <tr>\n",
       "      <th>5</th>\n",
       "      <td>spotify:track:2dHHgzDwk4BJdRwy9uXhTO</td>\n",
       "      <td>0.62</td>\n",
       "      <td>-6.005</td>\n",
       "      <td>0.0484</td>\n",
       "      <td>0.172</td>\n",
       "      <td>0.0822</td>\n",
       "      <td>97.95</td>\n",
       "      <td>0.715</td>\n",
       "    </tr>\n",
       "    <tr>\n",
       "      <th>6</th>\n",
       "      <td>spotify:track:0WtM2NBVQNNJLh6scP13H8</td>\n",
       "      <td>0.806</td>\n",
       "      <td>-5.206</td>\n",
       "      <td>0.0381</td>\n",
       "      <td>0.802</td>\n",
       "      <td>0.114</td>\n",
       "      <td>106.999</td>\n",
       "      <td>0.801</td>\n",
       "    </tr>\n",
       "    <tr>\n",
       "      <th>7</th>\n",
       "      <td>spotify:track:0DWdj2oZMBFSzRsi2Cvfzf</td>\n",
       "      <td>0.63</td>\n",
       "      <td>-3.547</td>\n",
       "      <td>0.277</td>\n",
       "      <td>0.607</td>\n",
       "      <td>0.0936</td>\n",
       "      <td>179.974</td>\n",
       "      <td>0.72</td>\n",
       "    </tr>\n",
       "    <tr>\n",
       "      <th>8</th>\n",
       "      <td>spotify:track:4LRPiXqCikLlN15c3yImP7</td>\n",
       "      <td>0.731</td>\n",
       "      <td>-5.338</td>\n",
       "      <td>0.0557</td>\n",
       "      <td>0.662</td>\n",
       "      <td>0.311</td>\n",
       "      <td>173.93</td>\n",
       "      <td>0.52</td>\n",
       "    </tr>\n",
       "    <tr>\n",
       "      <th>9</th>\n",
       "      <td>spotify:track:6UN73IYd0hZxLi8wFPMQij</td>\n",
       "      <td>0.516</td>\n",
       "      <td>-5.817</td>\n",
       "      <td>0.16</td>\n",
       "      <td>0.624</td>\n",
       "      <td>0.0504</td>\n",
       "      <td>105.001</td>\n",
       "      <td>0.954</td>\n",
       "    </tr>\n",
       "    <tr>\n",
       "      <th>10</th>\n",
       "      <td>spotify:track:1xzi1Jcr7mEi9K2RfzLOqS</td>\n",
       "      <td>0.689</td>\n",
       "      <td>-5.668</td>\n",
       "      <td>0.141</td>\n",
       "      <td>0.642</td>\n",
       "      <td>0.0698</td>\n",
       "      <td>115.042</td>\n",
       "      <td>0.78</td>\n",
       "    </tr>\n",
       "    <tr>\n",
       "      <th>11</th>\n",
       "      <td>spotify:track:0V3wPSX9ygBnCm8psDIegu</td>\n",
       "      <td>0.643</td>\n",
       "      <td>-6.571</td>\n",
       "      <td>0.0519</td>\n",
       "      <td>0.533</td>\n",
       "      <td>0.142</td>\n",
       "      <td>97.008</td>\n",
       "      <td>0.637</td>\n",
       "    </tr>\n",
       "    <tr>\n",
       "      <th>12</th>\n",
       "      <td>spotify:track:5odlY52u43F5BjByhxg7wg</td>\n",
       "      <td>0.593</td>\n",
       "      <td>-4.801</td>\n",
       "      <td>0.0322</td>\n",
       "      <td>0.153</td>\n",
       "      <td>0.25</td>\n",
       "      <td>94.467</td>\n",
       "      <td>0.515</td>\n",
       "    </tr>\n",
       "    <tr>\n",
       "      <th>13</th>\n",
       "      <td>spotify:track:4nrPB8O7Y7wsOCJdgXkthe</td>\n",
       "      <td>0.632</td>\n",
       "      <td>-5.6</td>\n",
       "      <td>0.0493</td>\n",
       "      <td>0.498</td>\n",
       "      <td>0.0915</td>\n",
       "      <td>122.104</td>\n",
       "      <td>0.778</td>\n",
       "    </tr>\n",
       "    <tr>\n",
       "      <th>14</th>\n",
       "      <td>spotify:track:3nqQXoyQOWXiESFLlDF1hG</td>\n",
       "      <td>0.472</td>\n",
       "      <td>-7.375</td>\n",
       "      <td>0.0864</td>\n",
       "      <td>0.238</td>\n",
       "      <td>0.266</td>\n",
       "      <td>131.121</td>\n",
       "      <td>0.714</td>\n",
       "    </tr>\n",
       "  </tbody>\n",
       "</table>\n",
       "</div>"
      ],
      "text/plain": [
       "                                     URI energy loudness speechiness valence  \\\n",
       "0   spotify:track:7oDd86yk8itslrA9HRP2ki  0.525     -6.5      0.0671   0.502   \n",
       "1   spotify:track:0yLdNVWF3Srea0uzk55zFn  0.681   -4.325      0.0668   0.646   \n",
       "2   spotify:track:6AQbmUe0Qwf5PZnt4HmTXv  0.809   -8.254        0.05   0.857   \n",
       "3   spotify:track:1Qrg8KqiBpW07V7PNxwwwL  0.735   -5.747      0.0391   0.418   \n",
       "4   spotify:track:5Z2MiIZ5I3jJvvmeWMLbOQ  0.742   -5.355       0.114    0.25   \n",
       "5   spotify:track:2dHHgzDwk4BJdRwy9uXhTO   0.62   -6.005      0.0484   0.172   \n",
       "6   spotify:track:0WtM2NBVQNNJLh6scP13H8  0.806   -5.206      0.0381   0.802   \n",
       "7   spotify:track:0DWdj2oZMBFSzRsi2Cvfzf   0.63   -3.547       0.277   0.607   \n",
       "8   spotify:track:4LRPiXqCikLlN15c3yImP7  0.731   -5.338      0.0557   0.662   \n",
       "9   spotify:track:6UN73IYd0hZxLi8wFPMQij  0.516   -5.817        0.16   0.624   \n",
       "10  spotify:track:1xzi1Jcr7mEi9K2RfzLOqS  0.689   -5.668       0.141   0.642   \n",
       "11  spotify:track:0V3wPSX9ygBnCm8psDIegu  0.643   -6.571      0.0519   0.533   \n",
       "12  spotify:track:5odlY52u43F5BjByhxg7wg  0.593   -4.801      0.0322   0.153   \n",
       "13  spotify:track:4nrPB8O7Y7wsOCJdgXkthe  0.632     -5.6      0.0493   0.498   \n",
       "14  spotify:track:3nqQXoyQOWXiESFLlDF1hG  0.472   -7.375      0.0864   0.238   \n",
       "\n",
       "   liveness    tempo danceability  \n",
       "0     0.441     66.9        0.531  \n",
       "1    0.0322  117.999        0.707  \n",
       "2     0.248  132.962        0.696  \n",
       "3     0.161    88.98        0.644  \n",
       "4    0.0934   96.107        0.538  \n",
       "5    0.0822    97.95        0.715  \n",
       "6     0.114  106.999        0.801  \n",
       "7    0.0936  179.974         0.72  \n",
       "8     0.311   173.93         0.52  \n",
       "9    0.0504  105.001        0.954  \n",
       "10   0.0698  115.042         0.78  \n",
       "11    0.142   97.008        0.637  \n",
       "12     0.25   94.467        0.515  \n",
       "13   0.0915  122.104        0.778  \n",
       "14    0.266  131.121        0.714  "
      ]
     },
     "execution_count": 29,
     "metadata": {},
     "output_type": "execute_result"
    }
   ],
   "source": [
    "df "
   ]
  },
  {
   "cell_type": "code",
   "execution_count": 61,
   "metadata": {},
   "outputs": [],
   "source": [
    "# SENTIMENT ANALYSIS\n",
    "import lyricsgenius\n",
    "from getpass import getpass\n",
    "import nltk\n",
    "from nltk.sentiment import SentimentIntensityAnalyzer\n",
    "\n",
    "# Insert Genius token (in case it expires: https://genius.com/api-clients)\n",
    "genius_token = getpass()\n",
    "genius = lyricsgenius.Genius(genius_token)"
   ]
  },
  {
   "cell_type": "code",
   "execution_count": 62,
   "metadata": {},
   "outputs": [
    {
     "name": "stdout",
     "output_type": "stream",
     "text": [
      "Searching for songs by The Weeknd...\n",
      "\n",
      "Song 1: \"The Hills\"\n",
      "\n",
      "Reached user-specified song limit (1).\n",
      "Done. Found 1 songs.\n",
      "Searching for \"Die For You - Remix\" by The Weeknd...\n",
      "Done.\n"
     ]
    },
    {
     "data": {
      "text/plain": [
       "\"TranslationsEspañolItalianoDeutschDie For You (Remix) Lyrics[Verse 1: The Weeknd]\\nI'm findin' ways to articulate the feelin' I'm goin' through\\nI just can't say I don't love you (Yeah)\\n'Cause I love you, yeah\\nIt's hard for me to communicate the thoughts that I hold\\nBut tonight, I'm gon' let you know\\nLet me tell the truth\\nBaby, let me tell the truth, yeah\\n\\n[Pre-Chorus: The Weeknd]\\nYou know what I'm thinkin', see it in your eyes\\nYou hate that you want me, hate it when you cry\\nYou're scared to be lonely, 'specially in the night\\nI'm scared that I'll miss you, happens every time\\nI don't want this feelin', I can't afford love\\nI try to find a reason to pull us apart\\nIt ain't workin' 'cause you're perfеct\\nAnd I know that you're worth it\\nI can't walk away, oh\\n[Chorus: Both, Ariana Grande, The Weeknd]\\nEven though we'rе goin' through it (Ah)\\nAnd it makes you feel alone\\nJust know that I would die for you (Ooh, ooh)\\nBaby, I would die for you, yeah\\nThe distance and the time between us (Distance and the time)\\nIt'll never change my mind 'cause\\nBaby, I would die for you (I would die for you)\\nBaby, I would die for you, yeah\\n[Verse 2: Ariana Grande]\\nI'm findin' ways to stay concentrated on what I gotta do\\nBut, baby boy, it's so hard 'round you\\nAnd yes, I'm blamin' you\\nAnd you know I can't fake it, now or never\\nAnd you insinuatin' that you think we might be better\\nBetter me and you\\nYeah, I know you do\\n\\n[Pre-Chorus: Ariana Grande]\\nYou know what I'm thinkin', see it in your eyes\\nYou hate that you want me, hate it when you cry\\nIt ain't workin' 'cause you're perfect (Mm)\\nAnd I know you deserve it\\nI can't walk away\\nYou might also like[Chorus: Both, Ariana Grande, The Weeknd]\\nEven though we're goin' through it\\nAnd it makes you (Me) feel alone\\nJust know that I would die for you (I would die for you)\\nBaby, I would die for you, yeah\\nThe distance and the time between us\\nIt'll never change my mind 'cause\\nBaby, I would die for you (I would die for you, uh)\\nBaby, I would die for you, yeah (I would die for you)\\n\\n[Bridge: The Weeknd]\\nI would die for you, I would lie for you\\nKeep it real with you, I would kill for you, my baby\\nI'm just sayin', yeah\\nI would die for you, I would lie for you\\nKeep it real with you, I would kill for you, my baby\\nNa-na-na, na-na-na, na-na-na\\n\\n[Chorus: The Weeknd]\\nEven though we're goin' through it (Ooh)\\nAnd it makes you feel alone (No, no)\\nJust know that I would die for you (No)\\nBaby, I would die for you, yeah\\nThe distance and the time between us (Ooh)\\nIt'll never change my mind 'cause (No, no)\\nBaby, I would die for you (No)\\nBaby, I would die for you, yeah (Oh, babe)6Embed\""
      ]
     },
     "execution_count": 62,
     "metadata": {},
     "output_type": "execute_result"
    }
   ],
   "source": [
    "# define function:\n",
    "artist = genius.search_artist(song_artist_list[0], max_songs=1)\n",
    "cancion = song_name_list[0]\n",
    "song = artist.song(cancion)\n",
    "song.lyrics"
   ]
  },
  {
   "cell_type": "code",
   "execution_count": 63,
   "metadata": {},
   "outputs": [],
   "source": [
    "sia = SentimentIntensityAnalyzer()"
   ]
  },
  {
   "cell_type": "code",
   "execution_count": 64,
   "metadata": {},
   "outputs": [
    {
     "data": {
      "text/plain": [
       "{'neg': 0.25, 'neu': 0.647, 'pos': 0.103, 'compound': -0.9989}"
      ]
     },
     "execution_count": 64,
     "metadata": {},
     "output_type": "execute_result"
    }
   ],
   "source": [
    "sia.polarity_scores(song.lyrics)"
   ]
  },
  {
   "cell_type": "code",
   "execution_count": null,
   "metadata": {},
   "outputs": [],
   "source": [
    "# Song lyrics emotions:\n",
    "# Note that the emotional content of a text can be highly dependent on factors such as tone, style, and intended audience."
   ]
  },
  {
   "cell_type": "code",
   "execution_count": 67,
   "metadata": {},
   "outputs": [],
   "source": [
    "from nrclex import NRCLex"
   ]
  },
  {
   "cell_type": "code",
   "execution_count": null,
   "metadata": {},
   "outputs": [],
   "source": []
  }
 ],
 "metadata": {
  "kernelspec": {
   "display_name": "ironhack",
   "language": "python",
   "name": "python3"
  },
  "language_info": {
   "codemirror_mode": {
    "name": "ipython",
    "version": 3
   },
   "file_extension": ".py",
   "mimetype": "text/x-python",
   "name": "python",
   "nbconvert_exporter": "python",
   "pygments_lexer": "ipython3",
   "version": "3.9.12"
  },
  "orig_nbformat": 4,
  "vscode": {
   "interpreter": {
    "hash": "79e8e12960902be9b96136e06f35e6a59d5d8c359e0492f5e08d8a671bbdf383"
   }
  }
 },
 "nbformat": 4,
 "nbformat_minor": 2
}

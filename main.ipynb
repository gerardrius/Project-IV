{
 "cells": [
  {
   "cell_type": "code",
   "execution_count": 1,
   "metadata": {},
   "outputs": [],
   "source": [
    "import pandas as pd\n",
    "import src.credentials as cred\n",
    "import src.response as resp\n",
    "import src.track_items as track\n",
    "import src.genre_classifier as genre\n",
    "import src.sql_connection as sql"
   ]
  },
  {
   "cell_type": "code",
   "execution_count": 2,
   "metadata": {},
   "outputs": [],
   "source": [
    "# please, input a playlist link:\n",
    "example_link = 'https://open.spotify.com/playlist/37i9dQZF1DXcBWIGoYBM5M?si=b705194596334305'\n",
    "playlist_link = input('Please, input a valid Spotify Playlist link: ')\n",
    "\n",
    "# Credentials\n",
    "genius = cred.lyricsgenius.Genius(cred.geniusToken())\n",
    "spotify_token  = cred.spotifyToken()\n",
    "headers = cred.query_header (spotify_token)"
   ]
  },
  {
   "cell_type": "code",
   "execution_count": 3,
   "metadata": {},
   "outputs": [],
   "source": [
    "# Responses\n",
    "query = resp.playlist_query () # If no Playlist is entered, it will run the example one.\n",
    "response = resp.playlist_response()"
   ]
  },
  {
   "cell_type": "code",
   "execution_count": 4,
   "metadata": {},
   "outputs": [
    {
     "name": "stdout",
     "output_type": "stream",
     "text": [
      "Searching for \"Die For You - Remix\" by The Weeknd...\n",
      "Done.\n",
      "Searching for \"Flowers\" by Miley Cyrus...\n",
      "Done.\n",
      "Searching for \"Boy's a liar Pt. 2\" by PinkPantheress...\n",
      "Done.\n",
      "Searching for \"Kill Bill\" by SZA...\n",
      "Done.\n",
      "Searching for \"Escapism.\" by RAYE...\n",
      "Done.\n",
      "Searching for \"Creepin' (with The Weeknd & 21 Savage)\" by Metro Boomin...\n",
      "Done.\n",
      "Searching for \"Calm Down (with Selena Gomez)\" by Rema...\n",
      "Done.\n",
      "Searching for \"TQG\" by KAROL G...\n",
      "Done.\n",
      "Searching for \"As It Was\" by Harry Styles...\n",
      "Done.\n",
      "Searching for \"Players\" by Coi Leray...\n",
      "Done.\n",
      "Searching for \"CUFF IT\" by Beyoncé...\n",
      "Done.\n",
      "Searching for \"Anti-Hero\" by Taylor Swift...\n",
      "Done.\n",
      "Searching for \"golden hour\" by JVKE...\n",
      "Done.\n",
      "Searching for \"Shakira: Bzrp Music Sessions, Vol. 53\" by Bizarrap...\n",
      "Done.\n",
      "Searching for \"Unholy (feat. Kim Petras)\" by Sam Smith...\n",
      "Done.\n",
      "Searching for \"Just Wanna Rock\" by Lil Uzi Vert...\n",
      "Done.\n",
      "Searching for \"Love Again\" by The Kid LAROI...\n",
      "Done.\n",
      "Searching for \"Heaven\" by Niall Horan...\n",
      "Done.\n",
      "Searching for \"LET GO\" by Central Cee...\n",
      "Done.\n",
      "Searching for \"I'm Good (Blue)\" by David Guetta...\n",
      "Done.\n",
      "Searching for \"OMG\" by NewJeans...\n",
      "Done.\n",
      "Searching for \"Snooze\" by SZA...\n",
      "Done.\n",
      "Searching for \"Here With Me\" by d4vd...\n",
      "Done.\n",
      "Searching for \"10:35\" by Tiësto...\n",
      "Done.\n",
      "Searching for \"Made You Look\" by Meghan Trainor...\n",
      "Done.\n",
      "Searching for \"I Ain't Worried\" by OneRepublic...\n",
      "Done.\n",
      "Searching for \"People\" by Libianca...\n",
      "Done.\n",
      "Searching for \"ceilings\" by Lizzy McAlpine...\n",
      "Done.\n",
      "Searching for \"I Like You (A Happier Song) (with Doja Cat)\" by Post Malone...\n",
      "Done.\n",
      "Searching for \"Miss You\" by Oliver Tree...\n",
      "Done.\n",
      "Searching for \"STAR WALKIN' (League of Legends Worlds Anthem)\" by Lil Nas X...\n",
      "Done.\n",
      "Searching for \"Until I Found You (with Em Beihold) - Em Beihold Version\" by Stephen Sanchez...\n",
      "No results found for: 'Until I Found You (with Em Beihold) - Em Beihold Version Stephen Sanchez'\n",
      "Searching for \"I'm Not Here To Make Friends\" by Sam Smith...\n",
      "Done.\n",
      "Searching for \"Late Night Talking\" by Harry Styles...\n",
      "Done.\n",
      "Searching for \"Lavender Haze\" by Taylor Swift...\n",
      "Done.\n",
      "Searching for \"Nobody Gets Me\" by SZA...\n",
      "Done.\n",
      "Searching for \"Rich Flex\" by Drake...\n",
      "Done.\n",
      "Searching for \"THE LONELIEST\" by Måneskin...\n",
      "Done.\n",
      "Searching for \"Bad Habit\" by Steve Lacy...\n",
      "Done.\n",
      "Searching for \"Last Night\" by Morgan Wallen...\n",
      "Done.\n",
      "Searching for \"Nonsense\" by Sabrina Carpenter...\n",
      "Done.\n",
      "Searching for \"La Bachata\" by Manuel Turizo...\n",
      "Done.\n",
      "Searching for \"Bones\" by Imagine Dragons...\n",
      "Done.\n",
      "Searching for \"Something in the Orange\" by Zach Bryan...\n",
      "Done.\n",
      "Searching for \"Rush\" by Ayra Starr...\n",
      "Done.\n",
      "Searching for \"About Damn Time\" by Lizzo...\n",
      "Done.\n",
      "Searching for \"Yandel 150\" by Yandel...\n",
      "Done.\n",
      "Searching for \"Vegas (From the Original Motion Picture Soundtrack ELVIS)\" by Doja Cat...\n",
      "Done.\n",
      "Searching for \"Superhero (Heroes & Villains) [with Future & Chris Brown]\" by Metro Boomin...\n",
      "No results found for: 'Superhero (Heroes & Villains) [with Future & Chris Brown] Metro Boomin'\n",
      "Searching for \"Tití Me Preguntó\" by Bad Bunny...\n",
      "Done.\n"
     ]
    }
   ],
   "source": [
    "# Track items\n",
    "result_dict = track.track_items (response)\n",
    "result_dict = track.track_audio_features (result_dict)\n",
    "result_dict = track.get_lyrics(result_dict)                            \n",
    "result_dict = track.track_sentiment(result_dict)"
   ]
  },
  {
   "cell_type": "code",
   "execution_count": 5,
   "metadata": {},
   "outputs": [],
   "source": [
    "spotify_dataframe = pd.DataFrame(result_dict)"
   ]
  },
  {
   "cell_type": "code",
   "execution_count": null,
   "metadata": {},
   "outputs": [],
   "source": [
    "# Model to classify genres\n",
    "data_to_train_model = genre.model_data ('data/spotify_genre_final.xlsx')\n",
    "my_rfc = genre.get_rfc(data_to_train_model)\n",
    "my_genre_predictions = genre.genre_predictor(spotify_dataframe, my_rfc)\n",
    "result_df = genre.df_append_genre(spotify_dataframe, my_genre_predictions)"
   ]
  },
  {
   "cell_type": "code",
   "execution_count": 10,
   "metadata": {},
   "outputs": [
    {
     "name": "stdout",
     "output_type": "stream",
     "text": [
      "Database is created\n"
     ]
    }
   ],
   "source": [
    "# SQL connection and export DataFrame as table\n",
    "sql.dataframe_to_sql (result_df, 'todays_top_hits')"
   ]
  },
  {
   "cell_type": "code",
   "execution_count": null,
   "metadata": {},
   "outputs": [],
   "source": [
    "# Dataframe to CSV\n"
   ]
  }
 ],
 "metadata": {
  "kernelspec": {
   "display_name": "ironhack",
   "language": "python",
   "name": "python3"
  },
  "language_info": {
   "codemirror_mode": {
    "name": "ipython",
    "version": 3
   },
   "file_extension": ".py",
   "mimetype": "text/x-python",
   "name": "python",
   "nbconvert_exporter": "python",
   "pygments_lexer": "ipython3",
   "version": "3.9.12 (main, Jun  1 2022, 06:36:29) \n[Clang 12.0.0 ]"
  },
  "orig_nbformat": 4,
  "vscode": {
   "interpreter": {
    "hash": "79e8e12960902be9b96136e06f35e6a59d5d8c359e0492f5e08d8a671bbdf383"
   }
  }
 },
 "nbformat": 4,
 "nbformat_minor": 2
}
